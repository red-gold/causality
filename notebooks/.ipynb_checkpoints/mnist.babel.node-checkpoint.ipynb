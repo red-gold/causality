{
 "cells": [
  {
   "cell_type": "code",
   "execution_count": null,
   "metadata": {},
   "outputs": [],
   "source": [
    "import { causalNetCore } from \"causal-net.core\";\n"
   ]
  },
  {
   "cell_type": "code",
   "execution_count": 7,
   "metadata": {},
   "outputs": [
    {
     "data": {
      "text/plain": [
       "'use strict'"
      ]
     },
     "execution_count": 7,
     "metadata": {},
     "output_type": "execute_result"
    }
   ],
   "source": []
  },
  {
   "cell_type": "code",
   "execution_count": null,
   "metadata": {},
   "outputs": [],
   "source": []
  },
  {
   "cell_type": "code",
   "execution_count": 8,
   "metadata": {},
   "outputs": [
    {
     "ename": "ReferenceError",
     "evalue": "window is not defined",
     "output_type": "error",
     "traceback": [
      "/home/huynhnguyen/github/causality/notebooks/billboard.js:3386",
      " */extend(ChartInternal_ChartInternal.prototype,{getClipPath:function getClipPath(id){var $$=this,config=$$.config;if(!config.clipPath&&/-clip$/.test(id)||!config.axis_x_clipPath&&/-clip-xaxis$/.test(id)||!config.axis_y_clipPath&&/-clip-yaxis$/.test(id))return null;var isIE9=window.navigator.appVersion.toLowerCase().indexOf(\"msie 9.\")>=0;return\"url(\".concat(isIE9?\"\":document.URL.split(\"#\")[0],\"#\").concat(id,\")\");},appendClip:function appendClip(parent,id){return parent.append(\"clipPath\").attr(\"id\",id).append(\"rect\");},getAxisClipX:function getAxisClipX(forHorizontal){// axis line width + padding for left",
      "                                                                                                                                                                                                                                                                                    ^",
      "",
      "ReferenceError: window is not defined",
      "    at ChartInternal.window [as getClipPath] (/home/huynhnguyen/github/causality/notebooks/billboard.js:9685:17)",
      "    at ChartInternal.getClipPath [as initParams] (/home/huynhnguyen/github/causality/notebooks/billboard.js:1670:326)",
      "    at ChartInternal.initParams [as init] (/home/huynhnguyen/github/causality/notebooks/billboard.js:1661:14)",
      "    at new init (/home/huynhnguyen/github/causality/notebooks/billboard.js:2250:72)",
      "    at Object.generate (/home/huynhnguyen/github/causality/notebooks/billboard.js:12856:16)",
      "    at evalmachine.<anonymous>:3:16",
      "    at Script.runInThisContext (vm.js:122:20)",
      "    at Object.runInThisContext (vm.js:319:38)",
      "    at run ([eval]:1054:15)",
      "    at onRunRequest ([eval]:888:18)"
     ]
    }
   ],
   "source": [
    "var chart = bb.generate({\n",
    "    bindto: \"#chart\",\n",
    "    data: {\n",
    "        type: \"bar\",\n",
    "        columns: [\n",
    "            [\"data1\", 30, 200, 100, 170, 150, 250],\n",
    "            [\"data2\", 130, 100, 140, 35, 110, 50]\n",
    "        ]\n",
    "    }\n",
    "});"
   ]
  },
  {
   "cell_type": "markdown",
   "metadata": {},
   "source": [
    "\n",
    "var a = \"1\""
   ]
  },
  {
   "cell_type": "code",
   "execution_count": null,
   "metadata": {},
   "outputs": [],
   "source": []
  }
 ],
 "metadata": {
  "kernelspec": {
   "display_name": "jp-Babel (Node.js)",
   "language": "babel",
   "name": "babel"
  },
  "language_info": {
   "file_extension": ".js",
   "mimetype": "application/javascript",
   "name": "javascript",
   "version": "11.2.0"
  }
 },
 "nbformat": 4,
 "nbformat_minor": 2
}
