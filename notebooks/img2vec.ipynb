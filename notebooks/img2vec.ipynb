{
 "cells": [
  {
   "cell_type": "code",
   "execution_count": 1,
   "metadata": {},
   "outputs": [],
   "source": [
    "import numpy as np\n",
    "import sklearn.datasets as dataset\n",
    "from sklearn.metrics.pairwise import cosine_similarity"
   ]
  },
  {
   "cell_type": "code",
   "execution_count": 2,
   "metadata": {},
   "outputs": [],
   "source": [
    "import time\n",
    "import matplotlib.pyplot as plt\n",
    "import numpy as np\n",
    "\n",
    "from sklearn.datasets import fetch_openml\n",
    "from sklearn.linear_model import LogisticRegression\n",
    "from sklearn.model_selection import train_test_split\n",
    "from sklearn.preprocessing import StandardScaler\n",
    "from sklearn.utils import check_random_state\n",
    "\n",
    "\n",
    "t0 = time.time()\n",
    "train_samples = 5000\n",
    "\n",
    "X, y = fetch_openml('mnist_784', version=1, return_X_y=True)\n",
    "\n",
    "random_state = check_random_state(0)\n",
    "permutation = random_state.permutation(X.shape[0])\n",
    "X = X[permutation]\n",
    "y = y[permutation]\n",
    "X = X.reshape((X.shape[0], -1))"
   ]
  },
  {
   "cell_type": "code",
   "execution_count": 3,
   "metadata": {},
   "outputs": [],
   "source": [
    "from skimage import data, color\n",
    "from skimage.transform import rescale, resize, downscale_local_mean"
   ]
  },
  {
   "cell_type": "code",
   "execution_count": 4,
   "metadata": {},
   "outputs": [],
   "source": [
    "import hilbert \n",
    "def flattenImg(img):\n",
    "        size = img.size\n",
    "        x, y = img.shape\n",
    "        order = int(np.log2(x))\n",
    "        d = [0]*size\n",
    "        hilbert_curve = hilbert.HilbertCurve(order, 2)\n",
    "        for r in range(x):\n",
    "            for c in range(y):\n",
    "                idx = hilbert_curve.distance_from_coordinates([r,c])\n",
    "                d[idx] = img[r,c]\n",
    "        return d\n",
    "def flatten2Img(flatten, shape):\n",
    "    x, y = shape\n",
    "    dd = []\n",
    "    img = np.zeros(shape)\n",
    "    order = int(np.log2(x))\n",
    "    hilbert_curve = hilbert.HilbertCurve(order, 2)\n",
    "    for d_idx, v in enumerate(flatten):\n",
    "        x, y = hilbert_curve.coordinates_from_distance(d_idx)\n",
    "        img[x,y] = v\n",
    "    return img\n",
    "def transformImg(sample):\n",
    "    sSample = resize(sample.reshape(28,28),(16,16), True)\n",
    "    sFilter = np.array([1 if x > 0 else 0 for x in sSample.flatten()]).reshape(16,16)\n",
    "    return flattenImg(sFilter)"
   ]
  },
  {
   "cell_type": "code",
   "execution_count": 5,
   "metadata": {},
   "outputs": [],
   "source": [
    "# !pip install tqdm\n",
    "from tqdm import tqdm"
   ]
  },
  {
   "cell_type": "code",
   "execution_count": 6,
   "metadata": {},
   "outputs": [
    {
     "name": "stderr",
     "output_type": "stream",
     "text": [
      "  0%|          | 0/70000 [00:00<?, ?it/s]/home/huynhnguyen/.local/lib/python2.7/site-packages/skimage/transform/_warps.py:105: UserWarning: The default mode, 'constant', will be changed to 'reflect' in skimage 0.15.\n",
      "  warn(\"The default mode, 'constant', will be changed to 'reflect' in \"\n",
      "/home/huynhnguyen/.local/lib/python2.7/site-packages/skimage/transform/_warps.py:110: UserWarning: Anti-aliasing will be enabled by default in skimage 0.15 to avoid aliasing artifacts when down-sampling images.\n",
      "  warn(\"Anti-aliasing will be enabled by default in skimage 0.15 to \"\n",
      "100%|██████████| 70000/70000 [03:52<00:00, 301.01it/s]\n"
     ]
    }
   ],
   "source": [
    "transformX = []\n",
    "for s in tqdm(X):\n",
    "    transformX.append(transformImg(s))"
   ]
  },
  {
   "cell_type": "code",
   "execution_count": 7,
   "metadata": {},
   "outputs": [],
   "source": [
    "import logging\n",
    "logging.basicConfig(format='%(asctime)s : %(levelname)s : %(message)s', level=logging.INFO)"
   ]
  },
  {
   "cell_type": "code",
   "execution_count": 8,
   "metadata": {},
   "outputs": [],
   "source": [
    "sample = transformX[0]\n",
    "def build_doc(sample):\n",
    "    doc = []\n",
    "    for i,x in enumerate(sample):\n",
    "        left = i-8 if i-8>=0 else 0\n",
    "        right = i + 8 if i + 8 < len(sample) else len(sample)\n",
    "        ngram = sample[left:right]\n",
    "        str_sample = ''.join([str(w) for w in ngram])\n",
    "        doc.append(str_sample)\n",
    "    return doc"
   ]
  },
  {
   "cell_type": "code",
   "execution_count": null,
   "metadata": {},
   "outputs": [
    {
     "name": "stderr",
     "output_type": "stream",
     "text": [
      " 49%|████▉     | 34492/70000 [01:14<01:16, 462.50it/s]"
     ]
    }
   ],
   "source": [
    "sentences = []\n",
    "for sample in tqdm(transformX):\n",
    "    sentences.append(build_doc(sample))"
   ]
  },
  {
   "cell_type": "code",
   "execution_count": null,
   "metadata": {
    "scrolled": true
   },
   "outputs": [],
   "source": [
    "from gensim.test.utils import common_texts, get_tmpfile\n",
    "from gensim.models import Word2Vec\n",
    "model = Word2Vec(min_count=1)\n",
    "model.build_vocab(sentences)"
   ]
  },
  {
   "cell_type": "code",
   "execution_count": 11,
   "metadata": {},
   "outputs": [
    {
     "data": {
      "text/plain": [
       "'Word2Vec(vocab=29177, size=100, alpha=0.025)'"
      ]
     },
     "execution_count": 11,
     "metadata": {},
     "output_type": "execute_result"
    }
   ],
   "source": [
    "str(model)"
   ]
  },
  {
   "cell_type": "code",
   "execution_count": 49,
   "metadata": {
    "scrolled": true
   },
   "outputs": [
    {
     "name": "stderr",
     "output_type": "stream",
     "text": [
      "2019-02-18 17:01:06,222 : WARNING : Effective 'alpha' higher than previous training cycles\n",
      "2019-02-18 17:01:06,224 : INFO : training model with 3 workers on 29177 vocabulary and 100 features, using sg=0 hs=0 sample=0.001 negative=5 window=5\n",
      "2019-02-18 17:01:07,231 : INFO : EPOCH 1 - PROGRESS: at 17.05% examples, 1867180 words/s, in_qsize 5, out_qsize 0\n",
      "2019-02-18 17:01:08,239 : INFO : EPOCH 1 - PROGRESS: at 34.38% examples, 1875854 words/s, in_qsize 5, out_qsize 2\n",
      "2019-02-18 17:01:09,239 : INFO : EPOCH 1 - PROGRESS: at 53.21% examples, 1941943 words/s, in_qsize 5, out_qsize 0\n",
      "2019-02-18 17:01:10,241 : INFO : EPOCH 1 - PROGRESS: at 71.98% examples, 1971510 words/s, in_qsize 6, out_qsize 0\n",
      "2019-02-18 17:01:11,246 : INFO : EPOCH 1 - PROGRESS: at 91.20% examples, 1996836 words/s, in_qsize 6, out_qsize 1\n",
      "2019-02-18 17:01:11,713 : INFO : worker thread finished; awaiting finish of 2 more threads\n",
      "2019-02-18 17:01:11,723 : INFO : worker thread finished; awaiting finish of 1 more threads\n",
      "2019-02-18 17:01:11,725 : INFO : worker thread finished; awaiting finish of 0 more threads\n",
      "2019-02-18 17:01:11,727 : INFO : EPOCH - 1 : training on 17920000 raw words (10980923 effective words) took 5.5s, 1997093 effective words/s\n",
      "2019-02-18 17:01:12,732 : INFO : EPOCH 2 - PROGRESS: at 18.00% examples, 1972189 words/s, in_qsize 3, out_qsize 0\n",
      "2019-02-18 17:01:13,733 : INFO : EPOCH 2 - PROGRESS: at 35.55% examples, 1946582 words/s, in_qsize 6, out_qsize 0\n",
      "2019-02-18 17:01:14,735 : INFO : EPOCH 2 - PROGRESS: at 54.38% examples, 1988803 words/s, in_qsize 6, out_qsize 1\n",
      "2019-02-18 17:01:15,735 : INFO : EPOCH 2 - PROGRESS: at 70.76% examples, 1941049 words/s, in_qsize 5, out_qsize 0\n",
      "2019-02-18 17:01:16,736 : INFO : EPOCH 2 - PROGRESS: at 87.81% examples, 1925973 words/s, in_qsize 5, out_qsize 0\n",
      "2019-02-18 17:01:17,481 : INFO : worker thread finished; awaiting finish of 2 more threads\n",
      "2019-02-18 17:01:17,482 : INFO : worker thread finished; awaiting finish of 1 more threads\n",
      "2019-02-18 17:01:17,490 : INFO : worker thread finished; awaiting finish of 0 more threads\n",
      "2019-02-18 17:01:17,491 : INFO : EPOCH - 2 : training on 17920000 raw words (10977576 effective words) took 5.8s, 1905616 effective words/s\n",
      "2019-02-18 17:01:18,500 : INFO : EPOCH 3 - PROGRESS: at 16.94% examples, 1857789 words/s, in_qsize 5, out_qsize 0\n",
      "2019-02-18 17:01:19,506 : INFO : EPOCH 3 - PROGRESS: at 33.54% examples, 1833012 words/s, in_qsize 5, out_qsize 0\n",
      "2019-02-18 17:01:20,510 : INFO : EPOCH 3 - PROGRESS: at 49.70% examples, 1812206 words/s, in_qsize 6, out_qsize 0\n",
      "2019-02-18 17:01:21,510 : INFO : EPOCH 3 - PROGRESS: at 66.52% examples, 1821904 words/s, in_qsize 5, out_qsize 1\n",
      "2019-02-18 17:01:22,510 : INFO : EPOCH 3 - PROGRESS: at 83.18% examples, 1822786 words/s, in_qsize 6, out_qsize 1\n",
      "2019-02-18 17:01:23,508 : INFO : worker thread finished; awaiting finish of 2 more threads\n",
      "2019-02-18 17:01:23,511 : INFO : EPOCH 3 - PROGRESS: at 99.94% examples, 1825069 words/s, in_qsize 1, out_qsize 1\n",
      "2019-02-18 17:01:23,512 : INFO : worker thread finished; awaiting finish of 1 more threads\n",
      "2019-02-18 17:01:23,514 : INFO : worker thread finished; awaiting finish of 0 more threads\n",
      "2019-02-18 17:01:23,515 : INFO : EPOCH - 3 : training on 17920000 raw words (10979153 effective words) took 6.0s, 1824866 effective words/s\n",
      "2019-02-18 17:01:24,532 : INFO : EPOCH 4 - PROGRESS: at 16.49% examples, 1805415 words/s, in_qsize 5, out_qsize 0\n",
      "2019-02-18 17:01:25,535 : INFO : EPOCH 4 - PROGRESS: at 32.98% examples, 1804689 words/s, in_qsize 6, out_qsize 1\n",
      "2019-02-18 17:01:26,536 : INFO : EPOCH 4 - PROGRESS: at 49.25% examples, 1799240 words/s, in_qsize 5, out_qsize 0\n",
      "2019-02-18 17:01:27,539 : INFO : EPOCH 4 - PROGRESS: at 65.07% examples, 1782848 words/s, in_qsize 6, out_qsize 1\n",
      "2019-02-18 17:01:28,550 : INFO : EPOCH 4 - PROGRESS: at 81.40% examples, 1782195 words/s, in_qsize 3, out_qsize 2\n",
      "2019-02-18 17:01:29,548 : INFO : EPOCH 4 - PROGRESS: at 97.56% examples, 1779778 words/s, in_qsize 6, out_qsize 0\n",
      "2019-02-18 17:01:29,682 : INFO : worker thread finished; awaiting finish of 2 more threads\n",
      "2019-02-18 17:01:29,691 : INFO : worker thread finished; awaiting finish of 1 more threads\n",
      "2019-02-18 17:01:29,692 : INFO : worker thread finished; awaiting finish of 0 more threads\n",
      "2019-02-18 17:01:29,693 : INFO : EPOCH - 4 : training on 17920000 raw words (10979452 effective words) took 6.2s, 1781332 effective words/s\n",
      "2019-02-18 17:01:30,709 : INFO : EPOCH 5 - PROGRESS: at 16.44% examples, 1802316 words/s, in_qsize 5, out_qsize 0\n",
      "2019-02-18 17:01:31,711 : INFO : EPOCH 5 - PROGRESS: at 32.70% examples, 1790806 words/s, in_qsize 6, out_qsize 0\n",
      "2019-02-18 17:01:32,716 : INFO : EPOCH 5 - PROGRESS: at 49.20% examples, 1795886 words/s, in_qsize 6, out_qsize 0\n",
      "2019-02-18 17:01:33,720 : INFO : EPOCH 5 - PROGRESS: at 65.46% examples, 1793470 words/s, in_qsize 6, out_qsize 2\n",
      "2019-02-18 17:01:34,720 : INFO : EPOCH 5 - PROGRESS: at 81.68% examples, 1789874 words/s, in_qsize 6, out_qsize 2\n",
      "2019-02-18 17:01:35,723 : INFO : EPOCH 5 - PROGRESS: at 98.06% examples, 1790005 words/s, in_qsize 6, out_qsize 0\n",
      "2019-02-18 17:01:35,835 : INFO : worker thread finished; awaiting finish of 2 more threads\n",
      "2019-02-18 17:01:35,843 : INFO : worker thread finished; awaiting finish of 1 more threads\n",
      "2019-02-18 17:01:35,844 : INFO : worker thread finished; awaiting finish of 0 more threads\n",
      "2019-02-18 17:01:35,845 : INFO : EPOCH - 5 : training on 17920000 raw words (10978772 effective words) took 6.1s, 1788884 effective words/s\n",
      "2019-02-18 17:01:36,853 : INFO : EPOCH 6 - PROGRESS: at 15.66% examples, 1715626 words/s, in_qsize 4, out_qsize 0\n",
      "2019-02-18 17:01:37,855 : INFO : EPOCH 6 - PROGRESS: at 31.53% examples, 1726648 words/s, in_qsize 5, out_qsize 0\n",
      "2019-02-18 17:01:38,857 : INFO : EPOCH 6 - PROGRESS: at 47.36% examples, 1729729 words/s, in_qsize 6, out_qsize 1\n",
      "2019-02-18 17:01:39,858 : INFO : EPOCH 6 - PROGRESS: at 63.01% examples, 1727811 words/s, in_qsize 5, out_qsize 0\n",
      "2019-02-18 17:01:40,859 : INFO : EPOCH 6 - PROGRESS: at 79.39% examples, 1741778 words/s, in_qsize 6, out_qsize 0\n",
      "2019-02-18 17:01:41,863 : INFO : EPOCH 6 - PROGRESS: at 95.83% examples, 1751004 words/s, in_qsize 5, out_qsize 1\n",
      "2019-02-18 17:01:42,130 : INFO : worker thread finished; awaiting finish of 2 more threads\n",
      "2019-02-18 17:01:42,134 : INFO : worker thread finished; awaiting finish of 1 more threads\n",
      "2019-02-18 17:01:42,136 : INFO : worker thread finished; awaiting finish of 0 more threads\n",
      "2019-02-18 17:01:42,138 : INFO : EPOCH - 6 : training on 17920000 raw words (10977332 effective words) took 6.3s, 1746449 effective words/s\n",
      "2019-02-18 17:01:43,142 : INFO : EPOCH 7 - PROGRESS: at 15.04% examples, 1646364 words/s, in_qsize 6, out_qsize 0\n",
      "2019-02-18 17:01:44,147 : INFO : EPOCH 7 - PROGRESS: at 30.03% examples, 1642766 words/s, in_qsize 4, out_qsize 2\n",
      "2019-02-18 17:01:45,150 : INFO : EPOCH 7 - PROGRESS: at 44.96% examples, 1639381 words/s, in_qsize 6, out_qsize 2\n",
      "2019-02-18 17:01:46,152 : INFO : EPOCH 7 - PROGRESS: at 60.06% examples, 1644610 words/s, in_qsize 6, out_qsize 1\n",
      "2019-02-18 17:01:47,153 : INFO : EPOCH 7 - PROGRESS: at 76.16% examples, 1668830 words/s, in_qsize 6, out_qsize 0\n",
      "2019-02-18 17:01:48,155 : INFO : EPOCH 7 - PROGRESS: at 91.09% examples, 1662613 words/s, in_qsize 5, out_qsize 0\n",
      "2019-02-18 17:01:48,710 : INFO : worker thread finished; awaiting finish of 2 more threads\n",
      "2019-02-18 17:01:48,716 : INFO : worker thread finished; awaiting finish of 1 more threads\n",
      "2019-02-18 17:01:48,720 : INFO : worker thread finished; awaiting finish of 0 more threads\n",
      "2019-02-18 17:01:48,723 : INFO : EPOCH - 7 : training on 17920000 raw words (10976932 effective words) took 6.6s, 1667547 effective words/s\n",
      "2019-02-18 17:01:49,729 : INFO : EPOCH 8 - PROGRESS: at 15.60% examples, 1707342 words/s, in_qsize 6, out_qsize 0\n",
      "2019-02-18 17:01:50,734 : INFO : EPOCH 8 - PROGRESS: at 31.14% examples, 1700906 words/s, in_qsize 6, out_qsize 0\n",
      "2019-02-18 17:01:51,735 : INFO : EPOCH 8 - PROGRESS: at 46.80% examples, 1707107 words/s, in_qsize 6, out_qsize 0\n",
      "2019-02-18 17:01:52,737 : INFO : EPOCH 8 - PROGRESS: at 61.95% examples, 1697191 words/s, in_qsize 6, out_qsize 0\n",
      "2019-02-18 17:01:53,740 : INFO : EPOCH 8 - PROGRESS: at 77.55% examples, 1699315 words/s, in_qsize 5, out_qsize 0\n"
     ]
    },
    {
     "name": "stderr",
     "output_type": "stream",
     "text": [
      "2019-02-18 17:01:54,743 : INFO : EPOCH 8 - PROGRESS: at 92.71% examples, 1692104 words/s, in_qsize 5, out_qsize 0\n",
      "2019-02-18 17:01:55,239 : INFO : worker thread finished; awaiting finish of 2 more threads\n",
      "2019-02-18 17:01:55,245 : INFO : worker thread finished; awaiting finish of 1 more threads\n",
      "2019-02-18 17:01:55,246 : INFO : worker thread finished; awaiting finish of 0 more threads\n",
      "2019-02-18 17:01:55,247 : INFO : EPOCH - 8 : training on 17920000 raw words (10978873 effective words) took 6.5s, 1683720 effective words/s\n",
      "2019-02-18 17:01:56,255 : INFO : EPOCH 9 - PROGRESS: at 15.27% examples, 1669636 words/s, in_qsize 5, out_qsize 0\n",
      "2019-02-18 17:01:57,255 : INFO : EPOCH 9 - PROGRESS: at 31.09% examples, 1700835 words/s, in_qsize 6, out_qsize 0\n",
      "2019-02-18 17:01:58,257 : INFO : EPOCH 9 - PROGRESS: at 47.13% examples, 1720954 words/s, in_qsize 5, out_qsize 0\n",
      "2019-02-18 17:01:59,258 : INFO : EPOCH 9 - PROGRESS: at 63.01% examples, 1727374 words/s, in_qsize 6, out_qsize 0\n",
      "2019-02-18 17:02:00,262 : INFO : EPOCH 9 - PROGRESS: at 79.00% examples, 1732014 words/s, in_qsize 6, out_qsize 2\n",
      "2019-02-18 17:02:01,264 : INFO : EPOCH 9 - PROGRESS: at 95.55% examples, 1744801 words/s, in_qsize 6, out_qsize 0\n",
      "2019-02-18 17:02:01,532 : INFO : worker thread finished; awaiting finish of 2 more threads\n",
      "2019-02-18 17:02:01,536 : INFO : worker thread finished; awaiting finish of 1 more threads\n",
      "2019-02-18 17:02:01,538 : INFO : worker thread finished; awaiting finish of 0 more threads\n",
      "2019-02-18 17:02:01,540 : INFO : EPOCH - 9 : training on 17920000 raw words (10978069 effective words) took 6.3s, 1745850 effective words/s\n",
      "2019-02-18 17:02:02,544 : INFO : EPOCH 10 - PROGRESS: at 15.54% examples, 1704204 words/s, in_qsize 6, out_qsize 0\n",
      "2019-02-18 17:02:03,551 : INFO : EPOCH 10 - PROGRESS: at 31.70% examples, 1736219 words/s, in_qsize 6, out_qsize 3\n",
      "2019-02-18 17:02:04,551 : INFO : EPOCH 10 - PROGRESS: at 47.91% examples, 1748727 words/s, in_qsize 6, out_qsize 0\n",
      "2019-02-18 17:02:05,554 : INFO : EPOCH 10 - PROGRESS: at 63.46% examples, 1738943 words/s, in_qsize 5, out_qsize 0\n",
      "2019-02-18 17:02:06,553 : INFO : EPOCH 10 - PROGRESS: at 79.50% examples, 1743169 words/s, in_qsize 6, out_qsize 1\n",
      "2019-02-18 17:02:07,558 : INFO : EPOCH 10 - PROGRESS: at 95.66% examples, 1746304 words/s, in_qsize 5, out_qsize 0\n",
      "2019-02-18 17:02:07,803 : INFO : worker thread finished; awaiting finish of 2 more threads\n",
      "2019-02-18 17:02:07,808 : INFO : worker thread finished; awaiting finish of 1 more threads\n",
      "2019-02-18 17:02:07,810 : INFO : worker thread finished; awaiting finish of 0 more threads\n",
      "2019-02-18 17:02:07,811 : INFO : EPOCH - 10 : training on 17920000 raw words (10979171 effective words) took 6.3s, 1751611 effective words/s\n",
      "2019-02-18 17:02:07,812 : INFO : training on a 179200000 raw words (109786253 effective words) took 61.6s, 1782620 effective words/s\n",
      "  0%|          | 114/70000 [00:00<01:01, 1135.80it/s]"
     ]
    },
    {
     "name": "stdout",
     "output_type": "stream",
     "text": [
      "[1.0000002, 0.9875598, 0.9872982, 0.98714143, 0.9862945, 0.98567253, 0.9854299, 0.98518646, 0.98507315, 0.98490345]\n",
      "('0', ['0', '0', '5', '0', '2', '0', '2', '5', '5', '2'])\n",
      "[1.0, 0.99876714, 0.9983008, 0.99827737, 0.9982349, 0.99814105, 0.99814105, 0.99812186, 0.99795115, 0.99784446]\n",
      "('1', ['1', '1', '1', '1', '1', '1', '1', '1', '1', '1'])\n",
      "[0.99999994, 0.9957791, 0.9955552, 0.9953248, 0.9952843, 0.9951736, 0.99511194, 0.99508834, 0.9949149, 0.9947593]\n",
      "('4', ['4', '5', '1', '1', '2', '5', '1', '8', '1', '4'])\n",
      "[1.0, 0.98728466, 0.9856657, 0.9847254, 0.98434, 0.98372805, 0.9831263, 0.9827213, 0.9820826, 0.9814534]\n",
      "('2', ['2', '3', '5', '0', '3', '0', '0', '4', '2', '4'])\n"
     ]
    },
    {
     "name": "stderr",
     "output_type": "stream",
     "text": [
      "100%|██████████| 70000/70000 [00:55<00:00, 1263.20it/s]\n"
     ]
    }
   ],
   "source": [
    "model.train(sentences, total_examples=model.corpus_count, epochs=10)\n",
    "def check_performance(target_idx, topk=10):\n",
    "    score = cosine_similarity([sent_vecs[target_idx]], sent_vecs[0:1000])[0]\n",
    "    print(sorted(score)[::-1][:topk])\n",
    "    print(y[target_idx], [y[idx] for idx in np.argsort(score)][::-1][:topk])\n",
    "check_performance(0)\n",
    "check_performance(2)\n",
    "check_performance(1)\n",
    "check_performance(3)\n",
    "sample = sentences[0]\n",
    "def sentence_vec(sample):\n",
    "    return np.mean(np.vstack([model.wv[s] for s in sample]),0)\n",
    "sent_vecs = []\n",
    "for sample in tqdm(sentences):\n",
    "    sent_vecs.append(sentence_vec(sample))"
   ]
  },
  {
   "cell_type": "code",
   "execution_count": 54,
   "metadata": {},
   "outputs": [
    {
     "name": "stderr",
     "output_type": "stream",
     "text": [
      "2019-02-18 17:34:21,545 : INFO : collecting all words and their counts\n",
      "2019-02-18 17:34:21,546 : INFO : PROGRESS: at example #0, processed 0 words (0/s), 0 word types, 0 tags\n",
      "2019-02-18 17:34:21,778 : INFO : PROGRESS: at example #10000, processed 2560000 words (11095125/s), 19236 word types, 10000 tags\n",
      "2019-02-18 17:34:22,009 : INFO : PROGRESS: at example #20000, processed 5120000 words (11121533/s), 22866 word types, 20000 tags\n",
      "2019-02-18 17:34:22,255 : INFO : PROGRESS: at example #30000, processed 7680000 words (10481747/s), 24923 word types, 30000 tags\n",
      "2019-02-18 17:34:22,514 : INFO : PROGRESS: at example #40000, processed 10240000 words (9957100/s), 26419 word types, 40000 tags\n",
      "2019-02-18 17:34:22,749 : INFO : PROGRESS: at example #50000, processed 12800000 words (10919634/s), 27426 word types, 50000 tags\n",
      "2019-02-18 17:34:22,985 : INFO : PROGRESS: at example #60000, processed 15360000 words (10946016/s), 28423 word types, 60000 tags\n",
      "2019-02-18 17:34:23,224 : INFO : collected 29177 word types and 70000 unique tags from a corpus of 70000 examples and 17920000 words\n",
      "2019-02-18 17:34:23,225 : INFO : Loading a fresh vocabulary\n",
      "2019-02-18 17:34:23,637 : INFO : effective_min_count=1 retains 29177 unique words (100% of original 29177, drops 0)\n",
      "2019-02-18 17:34:23,638 : INFO : effective_min_count=1 leaves 17920000 word corpus (100% of original 17920000, drops 0)\n",
      "2019-02-18 17:34:23,716 : INFO : deleting the raw counts dictionary of 29177 items\n",
      "2019-02-18 17:34:23,718 : INFO : sample=0.001 downsamples 40 most-common words\n",
      "2019-02-18 17:34:23,720 : INFO : downsampling leaves estimated 10978461 word corpus (61.3% of prior 17920000)\n",
      "2019-02-18 17:34:23,801 : INFO : estimated required memory for 29177 words and 100 dimensions: 65930100 bytes\n",
      "2019-02-18 17:34:23,803 : INFO : resetting layer weights\n",
      "2019-02-18 17:34:24,680 : INFO : training model with 4 workers on 29177 vocabulary and 100 features, using sg=0 hs=0 sample=0.001 negative=5 window=5\n",
      "2019-02-18 17:34:25,687 : INFO : EPOCH 1 - PROGRESS: at 14.76% examples, 1630267 words/s, in_qsize 8, out_qsize 0\n",
      "2019-02-18 17:34:26,688 : INFO : EPOCH 1 - PROGRESS: at 29.75% examples, 1640598 words/s, in_qsize 7, out_qsize 0\n",
      "2019-02-18 17:34:27,689 : INFO : EPOCH 1 - PROGRESS: at 44.79% examples, 1648425 words/s, in_qsize 7, out_qsize 0\n",
      "2019-02-18 17:34:28,694 : INFO : EPOCH 1 - PROGRESS: at 59.84% examples, 1651740 words/s, in_qsize 7, out_qsize 0\n",
      "2019-02-18 17:34:29,694 : INFO : EPOCH 1 - PROGRESS: at 74.82% examples, 1652675 words/s, in_qsize 8, out_qsize 0\n",
      "2019-02-18 17:34:30,697 : INFO : EPOCH 1 - PROGRESS: at 89.98% examples, 1654433 words/s, in_qsize 7, out_qsize 0\n",
      "2019-02-18 17:34:31,421 : INFO : worker thread finished; awaiting finish of 3 more threads\n",
      "2019-02-18 17:34:31,422 : INFO : worker thread finished; awaiting finish of 2 more threads\n",
      "2019-02-18 17:34:31,424 : INFO : worker thread finished; awaiting finish of 1 more threads\n",
      "2019-02-18 17:34:31,427 : INFO : worker thread finished; awaiting finish of 0 more threads\n",
      "2019-02-18 17:34:31,428 : INFO : EPOCH - 1 : training on 17920000 raw words (11049548 effective words) took 6.7s, 1639200 effective words/s\n",
      "2019-02-18 17:34:32,440 : INFO : EPOCH 2 - PROGRESS: at 13.82% examples, 1511849 words/s, in_qsize 8, out_qsize 0\n",
      "2019-02-18 17:34:33,442 : INFO : EPOCH 2 - PROGRESS: at 26.74% examples, 1467151 words/s, in_qsize 7, out_qsize 0\n",
      "2019-02-18 17:34:34,446 : INFO : EPOCH 2 - PROGRESS: at 40.78% examples, 1493252 words/s, in_qsize 8, out_qsize 0\n",
      "2019-02-18 17:34:35,450 : INFO : EPOCH 2 - PROGRESS: at 55.44% examples, 1524912 words/s, in_qsize 8, out_qsize 0\n",
      "2019-02-18 17:34:36,451 : INFO : EPOCH 2 - PROGRESS: at 69.42% examples, 1528865 words/s, in_qsize 8, out_qsize 0\n",
      "2019-02-18 17:34:37,452 : INFO : EPOCH 2 - PROGRESS: at 83.35% examples, 1529768 words/s, in_qsize 8, out_qsize 0\n",
      "2019-02-18 17:34:38,458 : INFO : EPOCH 2 - PROGRESS: at 95.49% examples, 1501606 words/s, in_qsize 7, out_qsize 0\n",
      "2019-02-18 17:34:38,776 : INFO : worker thread finished; awaiting finish of 3 more threads\n",
      "2019-02-18 17:34:38,782 : INFO : worker thread finished; awaiting finish of 2 more threads\n",
      "2019-02-18 17:34:38,783 : INFO : worker thread finished; awaiting finish of 1 more threads\n",
      "2019-02-18 17:34:38,794 : INFO : worker thread finished; awaiting finish of 0 more threads\n",
      "2019-02-18 17:34:38,796 : INFO : EPOCH - 2 : training on 17920000 raw words (11048292 effective words) took 7.4s, 1500184 effective words/s\n",
      "2019-02-18 17:34:39,799 : INFO : EPOCH 3 - PROGRESS: at 13.98% examples, 1544517 words/s, in_qsize 8, out_qsize 0\n",
      "2019-02-18 17:34:40,801 : INFO : EPOCH 3 - PROGRESS: at 27.86% examples, 1535515 words/s, in_qsize 8, out_qsize 0\n",
      "2019-02-18 17:34:41,801 : INFO : EPOCH 3 - PROGRESS: at 41.45% examples, 1524932 words/s, in_qsize 7, out_qsize 0\n",
      "2019-02-18 17:34:42,804 : INFO : EPOCH 3 - PROGRESS: at 55.88% examples, 1542876 words/s, in_qsize 7, out_qsize 0\n",
      "2019-02-18 17:34:43,812 : INFO : EPOCH 3 - PROGRESS: at 69.98% examples, 1543466 words/s, in_qsize 7, out_qsize 0\n",
      "2019-02-18 17:34:44,817 : INFO : EPOCH 3 - PROGRESS: at 84.02% examples, 1543000 words/s, in_qsize 8, out_qsize 0\n",
      "2019-02-18 17:34:45,819 : INFO : EPOCH 3 - PROGRESS: at 98.34% examples, 1547877 words/s, in_qsize 8, out_qsize 0\n",
      "2019-02-18 17:34:45,925 : INFO : worker thread finished; awaiting finish of 3 more threads\n",
      "2019-02-18 17:34:45,931 : INFO : worker thread finished; awaiting finish of 2 more threads\n",
      "2019-02-18 17:34:45,936 : INFO : worker thread finished; awaiting finish of 1 more threads\n",
      "2019-02-18 17:34:45,943 : INFO : worker thread finished; awaiting finish of 0 more threads\n",
      "2019-02-18 17:34:45,945 : INFO : EPOCH - 3 : training on 17920000 raw words (11049580 effective words) took 7.1s, 1546328 effective words/s\n",
      "2019-02-18 17:34:46,956 : INFO : EPOCH 4 - PROGRESS: at 13.98% examples, 1535346 words/s, in_qsize 7, out_qsize 0\n",
      "2019-02-18 17:34:47,956 : INFO : EPOCH 4 - PROGRESS: at 28.64% examples, 1575819 words/s, in_qsize 7, out_qsize 1\n",
      "2019-02-18 17:34:48,965 : INFO : EPOCH 4 - PROGRESS: at 43.12% examples, 1580228 words/s, in_qsize 7, out_qsize 0\n",
      "2019-02-18 17:34:49,967 : INFO : EPOCH 4 - PROGRESS: at 56.83% examples, 1564923 words/s, in_qsize 8, out_qsize 0\n",
      "2019-02-18 17:34:50,970 : INFO : EPOCH 4 - PROGRESS: at 70.70% examples, 1557772 words/s, in_qsize 7, out_qsize 0\n",
      "2019-02-18 17:34:51,977 : INFO : EPOCH 4 - PROGRESS: at 85.08% examples, 1560048 words/s, in_qsize 8, out_qsize 0\n",
      "2019-02-18 17:34:52,979 : INFO : EPOCH 4 - PROGRESS: at 98.84% examples, 1554237 words/s, in_qsize 7, out_qsize 0\n",
      "2019-02-18 17:34:53,064 : INFO : worker thread finished; awaiting finish of 3 more threads\n",
      "2019-02-18 17:34:53,066 : INFO : worker thread finished; awaiting finish of 2 more threads\n",
      "2019-02-18 17:34:53,074 : INFO : worker thread finished; awaiting finish of 1 more threads\n",
      "2019-02-18 17:34:53,078 : INFO : worker thread finished; awaiting finish of 0 more threads\n",
      "2019-02-18 17:34:53,081 : INFO : EPOCH - 4 : training on 17920000 raw words (11050122 effective words) took 7.1s, 1549761 effective words/s\n",
      "2019-02-18 17:34:54,086 : INFO : EPOCH 5 - PROGRESS: at 13.76% examples, 1517734 words/s, in_qsize 7, out_qsize 0\n",
      "2019-02-18 17:34:55,091 : INFO : EPOCH 5 - PROGRESS: at 27.86% examples, 1532310 words/s, in_qsize 7, out_qsize 0\n",
      "2019-02-18 17:34:56,096 : INFO : EPOCH 5 - PROGRESS: at 41.45% examples, 1520403 words/s, in_qsize 8, out_qsize 1\n",
      "2019-02-18 17:34:57,097 : INFO : EPOCH 5 - PROGRESS: at 55.49% examples, 1529137 words/s, in_qsize 7, out_qsize 0\n",
      "2019-02-18 17:34:58,101 : INFO : EPOCH 5 - PROGRESS: at 69.64% examples, 1534934 words/s, in_qsize 8, out_qsize 0\n",
      "2019-02-18 17:34:59,110 : INFO : EPOCH 5 - PROGRESS: at 83.85% examples, 1537720 words/s, in_qsize 7, out_qsize 0\n",
      "2019-02-18 17:35:00,111 : INFO : EPOCH 5 - PROGRESS: at 97.67% examples, 1536038 words/s, in_qsize 8, out_qsize 0\n",
      "2019-02-18 17:35:00,265 : INFO : worker thread finished; awaiting finish of 3 more threads\n",
      "2019-02-18 17:35:00,275 : INFO : worker thread finished; awaiting finish of 2 more threads\n",
      "2019-02-18 17:35:00,277 : INFO : worker thread finished; awaiting finish of 1 more threads\n",
      "2019-02-18 17:35:00,278 : INFO : worker thread finished; awaiting finish of 0 more threads\n"
     ]
    },
    {
     "name": "stderr",
     "output_type": "stream",
     "text": [
      "2019-02-18 17:35:00,282 : INFO : EPOCH - 5 : training on 17920000 raw words (11049362 effective words) took 7.2s, 1535308 effective words/s\n",
      "2019-02-18 17:35:00,283 : INFO : training on a 89600000 raw words (55246904 effective words) took 35.6s, 1551787 effective words/s\n"
     ]
    }
   ],
   "source": [
    "from gensim.models.doc2vec import Doc2Vec, TaggedDocument\n",
    "documents = [TaggedDocument(doc, [i]) for i, doc in enumerate(sentences)]\n",
    "docmodel = Doc2Vec(documents, vector_size=100, window=5, min_count=1, workers=4)"
   ]
  },
  {
   "cell_type": "code",
   "execution_count": 60,
   "metadata": {},
   "outputs": [
    {
     "ename": "TypeError",
     "evalue": "'collections.defaultdict' object is not callable",
     "output_type": "error",
     "traceback": [
      "\u001b[0;31m---------------------------------------------------------------------------\u001b[0m",
      "\u001b[0;31mTypeError\u001b[0m                                 Traceback (most recent call last)",
      "\u001b[0;32m<ipython-input-60-d5bc0df35915>\u001b[0m in \u001b[0;36m<module>\u001b[0;34m()\u001b[0m\n\u001b[0;32m----> 1\u001b[0;31m \u001b[0mdocmodel\u001b[0m\u001b[0;34m.\u001b[0m\u001b[0mvocabulary\u001b[0m\u001b[0;34m.\u001b[0m\u001b[0mraw_vocab\u001b[0m\u001b[0;34m(\u001b[0m\u001b[0;34m)\u001b[0m\u001b[0;34m\u001b[0m\u001b[0m\n\u001b[0m",
      "\u001b[0;31mTypeError\u001b[0m: 'collections.defaultdict' object is not callable"
     ]
    }
   ],
   "source": [
    "docmodel.vocabulary.raw_vocab()"
   ]
  },
  {
   "cell_type": "code",
   "execution_count": 48,
   "metadata": {},
   "outputs": [
    {
     "data": {
      "text/html": [
       "\n",
       "<div id=\"sketch\">\n",
       "  <canvas id=\"paint\"></canvas>\n",
       "</div>\n",
       "\n",
       "<div id=\"settings\"> Colours\n",
       "  <button onclick=\"getColor('blue');\">Blue</button>\n",
       "  <button onclick=\"getColor('red');\">Red</button>\n",
       "  <button onclick=\"getColor('green');\">Green</button>\n",
       "  <button onclick=\"getColor('white');\">White</button>\n",
       "  <button onclick=\"getColor('#333333');\">Eraser</button>\n",
       "</div>\n",
       "\n",
       "<div id=\"settings\"> Brush Size\n",
       "  <button onclick=\"getSize('2');\">Small</button>\n",
       "  <button onclick=\"getSize('5');\">Med</button>\n",
       "  <button onclick=\"getSize('10');\">Large</button>\n",
       "  <button onclick=\"getSize('20');\">X Large</button>\n",
       "</div>\n",
       "\n",
       "<script type=\"text/Javascript\">\n",
       "    var canvas = document.getElementById('paint');\n",
       "    var ctx = canvas.getContext('2d');\n",
       "\n",
       "    var sketch = document.getElementById('sketch');\n",
       "    var sketch_style = getComputedStyle(sketch);\n",
       "    canvas.width = 32;\n",
       "    canvas.height = 32;\n",
       "\n",
       "    var mouse = {x: 0, y: 0};\n",
       "\n",
       "    /* Mouse Capturing Work */\n",
       "    canvas.addEventListener('mousemove', function(e) {\n",
       "      mouse.x = e.pageX - this.offsetLeft;\n",
       "      mouse.y = e.pageY - this.offsetTop;\n",
       "    }, false);\n",
       "\n",
       "    /* Drawing on Paint App */\n",
       "    ctx.lineJoin = 'round';\n",
       "    ctx.lineCap = 'round';\n",
       "\n",
       "    ctx.strokeStyle = \"red\";\n",
       "    function getColor(colour){ctx.strokeStyle = colour;}\n",
       "\n",
       "    function getSize(size){ctx.lineWidth = size;}\n",
       "\n",
       "\n",
       "    //ctx.strokeStyle = \n",
       "    //ctx.strokeStyle = document.settings.colour[1].value;\n",
       "\n",
       "    canvas.addEventListener('mousedown', function(e) {\n",
       "        ctx.beginPath();\n",
       "        ctx.moveTo(mouse.x, mouse.y);\n",
       "\n",
       "        canvas.addEventListener('mousemove', onPaint, false);\n",
       "    }, false);\n",
       "\n",
       "    canvas.addEventListener('mouseup', function() {\n",
       "        canvas.removeEventListener('mousemove', onPaint, false);\n",
       "    }, false);\n",
       "\n",
       "    var onPaint = function() {\n",
       "        ctx.lineTo(mouse.x, mouse.y);\n",
       "        ctx.stroke();\n",
       "    };\n",
       "</script>\n",
       "\n",
       "<style>\n",
       "*{font-family:sans-serif;}\n",
       "\n",
       "#settings { display: block; text-align:center}\n",
       "\n",
       "\n",
       "#paint {border: 1px solid black; background : #333333; margin-left: auto; margin-right: auto; display: block;}\n",
       "</style>\n"
      ],
      "text/plain": [
       "<IPython.core.display.HTML object>"
      ]
     },
     "execution_count": 48,
     "metadata": {},
     "output_type": "execute_result"
    }
   ],
   "source": [
    "from IPython.display import HTML\n",
    "\n",
    "input_form = \"\"\"\n",
    "<div id=\"sketch\">\n",
    "  <canvas id=\"paint\"></canvas>\n",
    "</div>\n",
    "\n",
    "<div id=\"settings\"> Colours\n",
    "  <button onclick=\"getColor('blue');\">Blue</button>\n",
    "  <button onclick=\"getColor('red');\">Red</button>\n",
    "  <button onclick=\"getColor('green');\">Green</button>\n",
    "  <button onclick=\"getColor('white');\">White</button>\n",
    "  <button onclick=\"getColor('#333333');\">Eraser</button>\n",
    "</div>\n",
    "\n",
    "<div id=\"settings\"> Brush Size\n",
    "  <button onclick=\"getSize('2');\">Small</button>\n",
    "  <button onclick=\"getSize('5');\">Med</button>\n",
    "  <button onclick=\"getSize('10');\">Large</button>\n",
    "  <button onclick=\"getSize('20');\">X Large</button>\n",
    "</div>\n",
    "\"\"\"\n",
    "\n",
    "javascript = \"\"\"\n",
    "<script type=\"text/Javascript\">\n",
    "    var canvas = document.getElementById('paint');\n",
    "    var ctx = canvas.getContext('2d');\n",
    "\n",
    "    var sketch = document.getElementById('sketch');\n",
    "    var sketch_style = getComputedStyle(sketch);\n",
    "    canvas.width = 32;\n",
    "    canvas.height = 32;\n",
    "\n",
    "    var mouse = {x: 0, y: 0};\n",
    "\n",
    "    /* Mouse Capturing Work */\n",
    "    canvas.addEventListener('mousemove', function(e) {\n",
    "      mouse.x = e.pageX - this.offsetLeft;\n",
    "      mouse.y = e.pageY - this.offsetTop;\n",
    "    }, false);\n",
    "\n",
    "    /* Drawing on Paint App */\n",
    "    ctx.lineJoin = 'round';\n",
    "    ctx.lineCap = 'round';\n",
    "\n",
    "    ctx.strokeStyle = \"red\";\n",
    "    function getColor(colour){ctx.strokeStyle = colour;}\n",
    "\n",
    "    function getSize(size){ctx.lineWidth = size;}\n",
    "\n",
    "\n",
    "    //ctx.strokeStyle = \n",
    "    //ctx.strokeStyle = document.settings.colour[1].value;\n",
    "\n",
    "    canvas.addEventListener('mousedown', function(e) {\n",
    "        ctx.beginPath();\n",
    "        ctx.moveTo(mouse.x, mouse.y);\n",
    "\n",
    "        canvas.addEventListener('mousemove', onPaint, false);\n",
    "    }, false);\n",
    "\n",
    "    canvas.addEventListener('mouseup', function() {\n",
    "        canvas.removeEventListener('mousemove', onPaint, false);\n",
    "    }, false);\n",
    "\n",
    "    var onPaint = function() {\n",
    "        ctx.lineTo(mouse.x, mouse.y);\n",
    "        ctx.stroke();\n",
    "    };\n",
    "</script>\n",
    "\"\"\"\n",
    "css = \"\"\"\n",
    "<style>\n",
    "*{font-family:sans-serif;}\n",
    "\n",
    "#settings { display: block; text-align:center}\n",
    "\n",
    "\n",
    "#paint {border: 1px solid black; background : #333333; margin-left: auto; margin-right: auto; display: block;}\n",
    "</style>\n",
    "\"\"\"\n",
    "HTML(input_form + javascript + css)"
   ]
  }
 ],
 "metadata": {
  "kernelspec": {
   "display_name": "Python 2",
   "language": "python",
   "name": "python2"
  },
  "language_info": {
   "codemirror_mode": {
    "name": "ipython",
    "version": 2
   },
   "file_extension": ".py",
   "mimetype": "text/x-python",
   "name": "python",
   "nbconvert_exporter": "python",
   "pygments_lexer": "ipython2",
   "version": "2.7.15rc1"
  }
 },
 "nbformat": 4,
 "nbformat_minor": 2
}
