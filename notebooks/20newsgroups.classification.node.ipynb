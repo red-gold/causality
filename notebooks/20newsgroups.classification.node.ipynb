{
 "cells": [
  {
   "cell_type": "code",
   "execution_count": 3,
   "metadata": {},
   "outputs": [
    {
     "data": {
      "text/plain": [
       "'use strict'"
      ]
     },
     "execution_count": 3,
     "metadata": {},
     "output_type": "execute_result"
    }
   ],
   "source": [
    "import * as Utils from 'causal-net.utils';\n",
    "import * as Log from 'causal-net.log';\n",
    "import * as Preprocessing from 'causal-net.preprocessing';\n",
    "import { causalNetCore } from 'causal-net.core';\n",
    "import { causalNetSGDOptimizer } from 'causal-net.optimizers';\n",
    "import { causalNetModels } from \"causal-net.models\";\n",
    "import * as Sampling from 'causal-net.sampling';\n",
    "import * as Representation from 'causal-net.representation';\n",
    "import * as fs from 'fs';\n",
    "\n",
    "var R = causalNetCore.CoreFunction;\n",
    "var T = causalNetCore.CoreTensor;\n",
    "var { Loss } = causalNetModels.skipGram();\n",
    "var { Stream } = Utils;\n",
    "var { termLogger } = Log;\n",
    "// var { indexDBStorage } = Storage;\n",
    "var { nlpPreprocessing } = Preprocessing;\n",
    "var { causalNetSampling } = Sampling; \n",
    "var { CSV, Fetch } = Utils;\n",
    "var { SentenceEncode, causalNetWordVec } = Representation;\n",
    "var optimizers = causalNetSGDOptimizer;"
   ]
  },
  {
   "cell_type": "code",
   "execution_count": null,
   "metadata": {},
   "outputs": [],
   "source": []
  },
  {
   "cell_type": "code",
   "execution_count": 4,
   "metadata": {},
   "outputs": [
    {
     "data": {
      "text/plain": [
       "11314"
      ]
     },
     "execution_count": 4,
     "metadata": {},
     "output_type": "execute_result"
    }
   ],
   "source": [
    "var inputData = JSON.parse(fs.readFileSync('./sentenceEmbedd.json'));\n",
    "inputData.length;"
   ]
  },
  {
   "cell_type": "code",
   "execution_count": 5,
   "metadata": {},
   "outputs": [],
   "source": [
    "var data;\n",
    "(async ()=>{\n",
    "    data = await new Promise((resolve, reject)=>{\n",
    "        let csv = CSV();\n",
    "        let samples = [], labels = [];\n",
    "        csv.on('end', ()=>resolve({samples, labels}));\n",
    "        csv.on('data',(row)=>{\n",
    "            //console.log(row);\n",
    "            samples.push(row.sample);\n",
    "            labels.push(row.label);\n",
    "        });\n",
    "        fs.createReadStream('../datasets/20newsgroups/dataset.csv').pipe(csv);\n",
    "    });\n",
    "// console.log([data.samples.length, data.labels.length]);\n",
    "})();"
   ]
  },
  {
   "cell_type": "code",
   "execution_count": 34,
   "metadata": {},
   "outputs": [
    {
     "data": {
      "text/plain": [
       "'use strict'"
      ]
     },
     "execution_count": 34,
     "metadata": {},
     "output_type": "execute_result"
    }
   ],
   "source": [
    "// var label2int = R.compose(R.fromPairs, R.addIndex(R.map)((label, idx)=>[label, idx]), R.uniq)(data.labels);\n",
    "// var int2label = R.compose(R.fromPairs, R.addIndex(R.map)((label, idx)=>[idx, label]), R.uniq)(data.labels);\n",
    "// var labels = data.labels.map(l=>label2int[l]);\n",
    "// var preprocessingData = inputData.map((d,i)=>[Array.from(d),labels[i]]);"
   ]
  },
  {
   "cell_type": "code",
   "execution_count": 7,
   "metadata": {},
   "outputs": [
    {
     "data": {
      "text/plain": [
       "TSNE {\n",
       "  _events: [Object: null prototype] { progressStatus: [Function] },\n",
       "  _eventsCount: 1,\n",
       "  _maxListeners: undefined,\n",
       "  dim: 2,\n",
       "  perplexity: 30,\n",
       "  earlyExaggeration: 4,\n",
       "  learningRate: 100,\n",
       "  nIter: 1000,\n",
       "  metric: 'euclidean',\n",
       "  barneshut: false,\n",
       "  inputData: null,\n",
       "  outputEmbedding: null }"
      ]
     },
     "execution_count": 7,
     "metadata": {},
     "output_type": "execute_result"
    }
   ],
   "source": [
    "import TSNE from 'tsne-js';\n",
    " \n",
    "var model = new TSNE({\n",
    "  dim: 2,\n",
    "  perplexity: 30.0,\n",
    "  earlyExaggeration: 4.0,\n",
    "  learningRate: 100.0,\n",
    "  nIter: 1000,\n",
    "  metric: 'euclidean'\n",
    "});\n",
    "model.on('progressStatus', (d)=>{\n",
    "    console.log(d);\n",
    "});"
   ]
  },
  {
   "cell_type": "code",
   "execution_count": 8,
   "metadata": {},
   "outputs": [],
   "source": [
    "// inputData is a nested array which can be converted into an ndarray\n",
    "// alternatively, it can be an array of coordinates (second argument should be specified as 'sparse')\n",
    "model.init({\n",
    "  data: inputData,\n",
    "  type: 'dense'\n",
    "});"
   ]
  },
  {
   "cell_type": "code",
   "execution_count": 9,
   "metadata": {},
   "outputs": [
    {
     "name": "stdout",
     "output_type": "stream",
     "text": [
      "Calculating pairwise distances\n",
      "Calculating joint probabilities\n",
      "Early exaggeration with momentum 0.5\n",
      "Early exaggeration with momentum 0.8\n",
      "Final optimization with momentum 0.8\n",
      "Optimization end\n",
      "{ error: 5.613068619616683, iter: 102 }\n"
     ]
    }
   ],
   "source": [
    "// `error`,  `iter`: final error and iteration number\n",
    "// note: computation-heavy action happens here\n",
    "var [error, iter] = model.run();\n",
    "console.log({error, iter}); "
   ]
  },
  {
   "cell_type": "code",
   "execution_count": 10,
   "metadata": {
    "scrolled": true
   },
   "outputs": [
    {
     "name": "stdout",
     "output_type": "stream",
     "text": [
      "{ outputScaled:\n",
      "   [ [ 0.25597409654565, -0.04056887670985123 ],\n",
      "     [ -0.05170156736476558, 0.021286714931931697 ],\n",
      "     [ 0.04074567747699668, 0.0017369462049392926 ],\n",
      "     [ 0.03883620736981353, -0.012300239449875629 ],\n",
      "     [ -0.10315145459907042, 0.04521744831830672 ],\n",
      "     [ 0.02091048832052565, -0.0214023737118922 ],\n",
      "     [ 0.06722319221594364, -0.0039790907828985 ],\n",
      "     [ 0.001535915598196999, -0.006288594860118439 ],\n",
      "     [ 0.10769397074769917, -0.02260179076712454 ],\n",
      "     [ -0.0015684676864494585, 0.01460974179179793 ],\n",
      "     [ 0.12249858965836893, -0.008939513834409697 ],\n",
      "     [ -0.6055676018267737, 0.12346136715526167 ],\n",
      "     [ 0.05813495499312825, -0.01888958558272283 ],\n",
      "     [ -0.04240332709795782, -0.033010083531536706 ],\n",
      "     [ 0.5159978098090463, -0.024533688544269357 ],\n",
      "     [ -0.14790985156646058, 0.12864818351547014 ],\n",
      "     [ -0.00284655309039005, 0.018886547708904158 ],\n",
      "     [ 0.14037592111509473, -0.005898270524707901 ],\n",
      "     [ 0.029533009010782704, -0.011481209385160476 ],\n",
      "     [ 0.06975736119775984, -0.05371158895682202 ],\n",
      "     [ -0.012247717971564279, 0.025332525491600408 ],\n",
      "     [ -0.046782933607989706, 0.05507967892340332 ],\n",
      "     [ -0.006955227858382081, -0.03819094509247293 ],\n",
      "     [ 0.06765917430671352, -0.025345658220933074 ],\n",
      "     [ 0.03263924847697616, -0.024756857670810997 ],\n",
      "     [ 0.025653359311746195, -0.005120216550779994 ],\n",
      "     [ 0.2419314053256673, 0.012484099189211636 ],\n",
      "     [ -0.06039460344210632, -0.04829599110847267 ],\n",
      "     [ -0.06554336755802087, 0.08415510433792601 ],\n",
      "     [ 0.15447335365433867, -0.023033841963548143 ],\n",
      "     [ 0.12054420930551797, 0.025852423363386643 ],\n",
      "     [ 0.09529625375089239, -0.16897936317770093 ],\n",
      "     [ -0.03393714029864129, 0.04334786960442644 ],\n",
      "     [ -0.028145567085859535, -0.004568508986951968 ],\n",
      "     [ 0.01670141687623701, 0.006889712780897869 ],\n",
      "     [ -0.060400940632236895, -0.08624966361505676 ],\n",
      "     [ 0.10747741643482477, 0.022537088955939564 ],\n",
      "     [ -0.0440455419609855, 0.0455486886349406 ],\n",
      "     [ 0.048803551469310875, 0.01759717362017453 ],\n",
      "     [ 0.06376810664660332, -0.11989391891430619 ],\n",
      "     [ -0.0057689917961415045, -0.0031217161155964895 ],\n",
      "     [ 0.07899523141615312, -0.04225317260842497 ],\n",
      "     [ 0.03510791860541798, -0.027204605147884888 ],\n",
      "     [ -0.02919417026795631, -0.022234957396533174 ],\n",
      "     [ -0.014617611118632714, 0.015974902307950033 ],\n",
      "     [ 0.009946937016808577, -0.004819077807939773 ],\n",
      "     [ 0.05011284867239233, -0.033691732285359766 ],\n",
      "     [ 0.04723638551887035, 0.2588711989857712 ],\n",
      "     [ 0.015322929522779883, 0.010359042249698266 ],\n",
      "     [ -0.12571033373465212, -0.012388733100725515 ],\n",
      "     [ 0.08812757663133268, -0.08598845982198404 ],\n",
      "     [ -0.1117235417133218, 0.1690972055829215 ],\n",
      "     [ -0.032745254257943564, -0.012885517458701801 ],\n",
      "     [ 0.0029572635489651736, 0.027337211587787638 ],\n",
      "     [ -0.43273890009558535, 0.32807266249855116 ],\n",
      "     [ 0.034168586851176345, -0.02878728818786044 ],\n",
      "     [ 0.09045227347955256, -0.003761785249054457 ],\n",
      "     [ -0.04262523461641266, 0.014235870586583798 ],\n",
      "     [ 0.09506492735551997, -0.07240671641798384 ],\n",
      "     [ -0.061873903971359785, 0.029164883505350653 ],\n",
      "     [ 0.04371615755967062, 0.012213968994476736 ],\n",
      "     [ 0.07052911234174847, -0.03985262299300251 ],\n",
      "     [ 0.04480653402241442, -0.047762397435447156 ],\n",
      "     [ -0.12028362174517847, 0.15567364590514537 ],\n",
      "     [ 0.12885740726108494, 0.00011907007299345926 ],\n",
      "     [ -0.08541297046258912, 0.027038243497269934 ],\n",
      "     [ 0.011199045104091327, -0.018710595362020955 ],\n",
      "     [ 0.017320478111609063, 0.02893383857448864 ],\n",
      "     [ -0.14354021862794902, -0.043562322150523955 ],\n",
      "     [ 0.030047376610601657, -0.00308735639121654 ],\n",
      "     [ -0.36445081186970263, 0.26133470671929926 ],\n",
      "     [ 0.00902021048861813, -0.0002754020655625276 ],\n",
      "     [ 0.004728658840979054, -0.020640869978890204 ],\n",
      "     [ 0.04492872637769877, -0.013987998839039225 ],\n",
      "     [ -0.014361577476729859, -0.01342937093522633 ],\n",
      "     [ 0.04501928330248799, -0.00830401837452465 ],\n",
      "     [ 0.05864333808234354, -0.04727508803648257 ],\n",
      "     [ 0.23354285439817243, -0.031247238116538508 ],\n",
      "     [ 0.12991678931564715, -0.1071939379381627 ],\n",
      "     [ 0.08015114630022666, -0.07218406091230674 ],\n",
      "     [ -0.13977443654458419, 0.0013962476185253618 ],\n",
      "     [ -0.013573153261346926, 0.045716395615864054 ],\n",
      "     [ 0.02928627979809106, -0.02729529831670543 ],\n",
      "     [ 0.03726521711103131, -0.030975184569835598 ],\n",
      "     [ 0.04270275473758316, -0.0163072612319185 ],\n",
      "     [ 0.03379305713231673, 0.005737178298533418 ],\n",
      "     [ 0.07009761090497457, -0.04803318237596629 ],\n",
      "     [ 0.05810524997429666, 0.0029375932063160667 ],\n",
      "     [ -0.007469260443243225, -0.0016413359194835252 ],\n",
      "     [ 0.0351287160651376, -0.0010800288261569254 ],\n",
      "     [ 0.011862434316828622, -0.019188948630549044 ],\n",
      "     [ -0.43965585316843536, 0.34404349393760186 ],\n",
      "     [ 0.01967668941594196, 0.02548298933211898 ],\n",
      "     [ 0.050736753171222684, -0.159996945027342 ],\n",
      "     [ 0.040243178537275145, 0.011780557423540968 ],\n",
      "     [ 0.09387458065714721, 0.02860646056292929 ],\n",
      "     [ -0.07242629043295473, -0.2712106324229208 ],\n",
      "     [ 0.039263562772154315, 0.01587276108656283 ],\n",
      "     [ -0.11094968779201647, 0.14137936834304535 ],\n",
      "     [ 0.0373939232579398, -0.008504616596718952 ],\n",
      "     ... 11214 more items ] }\n"
     ]
    }
   ],
   "source": [
    "// // rerun without re-calculating pairwise distances, etc.\n",
    "// var [error, iter] = model.rerun();\n",
    "// console.log({error, iter}); \n",
    "// // `output` is unpacked ndarray (regular nested javascript array)\n",
    "// var output = model.getOutput();\n",
    "// console.log({output}); \n",
    "// `outputScaled` is `output` scaled to a range of [-1, 1]\n",
    "var outputScaled = model.getOutputScaled();\n",
    "console.log({outputScaled});"
   ]
  },
  {
   "cell_type": "code",
   "execution_count": 12,
   "metadata": {},
   "outputs": [],
   "source": [
    "fs.writeFileSync('./outputScaled.json',JSON.stringify(outputScaled))"
   ]
  },
  {
   "cell_type": "code",
   "execution_count": 14,
   "metadata": {},
   "outputs": [
    {
     "ename": "TypeError",
     "evalue": "Cannot read property '0' of undefined",
     "output_type": "error",
     "traceback": [
      "evalmachine.<anonymous>:3",
      "var data = outputScaled.map((v, i) => [...v, data.labels[i]]); // var data = [[1,1,'A1'],",
      "                                                        ^",
      "",
      "TypeError: Cannot read property '0' of undefined",
      "    at outputScaled.map (evalmachine.<anonymous>:3:57)",
      "    at Array.map (<anonymous>)",
      "    at evalmachine.<anonymous>:3:25",
      "    at Script.runInThisContext (vm.js:122:20)",
      "    at Object.runInThisContext (vm.js:319:38)",
      "    at run ([eval]:1054:15)",
      "    at onRunRequest ([eval]:888:18)",
      "    at onMessage ([eval]:848:13)",
      "    at process.emit (events.js:182:13)",
      "    at emit (internal/child_process.js:828:12)"
     ]
    }
   ],
   "source": [
    "var data = outputScaled.map((v,i)=>[...v, data.labels[i]]);\n",
    "// var data = [[1,1,'A1'],\n",
    "//             [1,2,'b'],\n",
    "//             [3,1,'b'],\n",
    "//             [4,4,'b'],\n",
    "//             [1,5,'1'],\n",
    "//             [4,0,'b'],\n",
    "//             [1,1,'c'],]"
   ]
  },
  {
   "cell_type": "code",
   "execution_count": 15,
   "metadata": {},
   "outputs": [
    {
     "data": {
      "text/plain": [
       "[ 0.25597409654565, -0.04056887670985123, 'rec.autos' ]"
      ]
     },
     "execution_count": 15,
     "metadata": {},
     "output_type": "execute_result"
    }
   ],
   "source": [
    "data[0]"
   ]
  },
  {
   "cell_type": "code",
   "execution_count": 16,
   "metadata": {},
   "outputs": [],
   "source": [
    "import { default as genBasePlot } from './plot.base';\n",
    "import { default as export2png } from './plot.export2png';\n",
    "import * as d3 from 'd3';\n",
    "var { SVG, xMap, yMap, plot, margin, width, height } = genBasePlot();\n",
    "\n",
    "xMap.domain(d3.extent(data, ([d0, d1])=>d0));\n",
    "yMap.domain(d3.extent(data, ([d0, d1])=>d1));\n",
    "var xAxis = d3.axisBottom(xMap);\n",
    "var yAxis = d3.axisLeft(yMap);\n",
    "var color = d3.scaleOrdinal(d3.schemeCategory10);\n",
    "SVG.append(\"g\").attr(\"class\", \"x axis\")\n",
    "            .attr(\"transform\", \"translate(0,\" + height + \")\").call(xAxis)\n",
    "            .append(\"text\").attr(\"class\", \"label\").attr(\"x\", width)\n",
    "            .attr(\"y\", 0).style(\"text-anchor\", \"end\").text(\"Sepal Width (cm)\");\n",
    "SVG.append(\"g\").attr(\"class\", \"y axis\").call(yAxis)\n",
    "            .append(\"text\").attr(\"class\", \"label\").attr(\"transform\", \"rotate(-90)\")\n",
    "            .attr(\"y\", 6).attr(\"dy\", \".71em\").style(\"text-anchor\", \"end\").text(\"Sepal Length (cm)\");\n",
    "SVG.selectAll(\".dot\").data(data).enter().append(\"circle\")\n",
    "      .attr(\"class\", \"dot\").attr(\"r\", 3.5).attr(\"cx\", (d)=>xMap(d[0]))\n",
    "      .attr(\"cy\", (d)=>yMap(d[1])).style(\"fill\", (d)=>color(d[2]));\n",
    "var legend = SVG.selectAll(\".legend\").data(color.domain()).enter()\n",
    "                .append(\"g\").attr(\"class\", \"legend\")\n",
    "                .attr(\"transform\", (d,i)=>\"translate(0,\" + i * 20 + \")\");\n",
    "\n",
    "legend.append(\"rect\").attr(\"x\", width - 18).attr(\"width\", 18)\n",
    "    .attr(\"height\", 18).style(\"fill\", color);\n",
    "\n",
    "legend.append(\"text\").attr(\"x\", width - 24).attr(\"y\", 9)\n",
    "    .attr(\"dy\", \".35em\").style(\"text-anchor\", \"end\").text(d=>d);\n",
    "\n",
    "plot.style = `body {font: 10px sans-serif;}\n",
    "            .axis path, .axis line {\n",
    "                fill: none; stroke: #000; shape-rendering: crispEdges; }\n",
    "            .dot { stroke: #000; }`;\n",
    "export2png('./test.png', plot);"
   ]
  },
  {
   "cell_type": "markdown",
   "metadata": {},
   "source": [
    "<img src=\"./test.png?123152322221\">"
   ]
  },
  {
   "cell_type": "code",
   "execution_count": null,
   "metadata": {},
   "outputs": [],
   "source": [
    "var data = d3.range(1000).map(d3.randomBates(10));\n",
    "data = data.map(d=>d+1);\n",
    "var formatCount = d3.format(\",.0f\");\n",
    "var margin = {top: 10, right: 30, bottom: 30, left: 30},\n",
    "    width = 960 - margin.left - margin.right,\n",
    "    height = 500 - margin.top - margin.bottom;\n",
    "var x = d3.scaleLinear().rangeRound([0, width]);\n",
    "    \n",
    "var bins = d3.histogram().domain(x.domain()).thresholds(x.ticks(20))(data);\n",
    "var y = d3.scaleLinear()\n",
    "            .domain([0, d3.max(bins, function(d) { return d.length; })])\n",
    "            .range([height, 0]);\n",
    "\n",
    "var svgWidth = width + margin.left + margin.right\n",
    "var svgHeight = height + margin.top + margin.bottom\n",
    "    \n",
    "var svg = d3n.createSVG(svgWidth, svgHeight).append(\"g\")\n",
    "              .attr(\"transform\", \"translate(\" + margin.left + \",\" + margin.top + \")\");\n",
    "\n",
    "var bar = svg.selectAll(\".bar\").data(bins).enter().append(\"g\").attr(\"class\", \"bar\")\n",
    "          .attr(\"transform\", function(d) { return \"translate(\" + x(d.x0) + \",\" + y(d.length) + \")\"; });\n",
    "\n",
    "bar.append(\"rect\")\n",
    "      .attr(\"x\", 1)\n",
    "      .attr(\"width\", x(bins[0].x1) - x(bins[0].x0) - 1)\n",
    "      .attr(\"height\", function(d) { return height - y(d.length); });\n",
    "\n",
    "bar.append(\"text\")\n",
    "      .attr(\"dy\", \".75em\")\n",
    "      .attr(\"y\", 6)\n",
    "      .attr(\"x\", (x(bins[0].x1) - x(bins[0].x0)) / 2)\n",
    "      .attr(\"text-anchor\", \"middle\")\n",
    "      .text(function(d) { return formatCount(d.length); });\n",
    "\n",
    "svg.append(\"g\")\n",
    "      .attr(\"class\", \"axis axis--x\")\n",
    "      .attr(\"transform\", \"translate(0,\" + height + \")\")\n",
    "      .call(d3.axisBottom(x));\n",
    "    \n",
    "output('../pie-canvas2', d3n).catch( err => console.error({err}) );"
   ]
  },
  {
   "cell_type": "markdown",
   "metadata": {},
   "source": [
    "<img src=\"../pie-canvas2.png\">"
   ]
  },
  {
   "cell_type": "markdown",
   "metadata": {},
   "source": [
    "<img src=\"../datasets/MNIST_dataset/data-chunk-90.png?1213\">"
   ]
  },
  {
   "cell_type": "code",
   "execution_count": null,
   "metadata": {},
   "outputs": [],
   "source": []
  },
  {
   "cell_type": "code",
   "execution_count": null,
   "metadata": {},
   "outputs": [],
   "source": []
  },
  {
   "cell_type": "code",
   "execution_count": null,
   "metadata": {},
   "outputs": [],
   "source": []
  },
  {
   "cell_type": "code",
   "execution_count": null,
   "metadata": {},
   "outputs": [],
   "source": [
    "var model;\n",
    "(async ()=>{\n",
    "    model = await SentenceEncode.load();\n",
    "})();"
   ]
  },
  {
   "cell_type": "code",
   "execution_count": null,
   "metadata": {
    "scrolled": true
   },
   "outputs": [],
   "source": [
    "// // Load the model.\n",
    "// var fetch = Fetch.fetch;\n",
    "// var sentenceEmbed = [];\n",
    "// (async ()=>{\n",
    "//     let counter = 0;\n",
    "//     for(let doc of data.samples){\n",
    "//         console.log(counter);\n",
    "//         counter += 1;\n",
    "//         let docTensor = await model.embed([doc]);\n",
    "//         let docVec = await docTensor.data();\n",
    "//         sentenceEmbed.push(docVec);\n",
    "//         docTensor.dispose();\n",
    "//     }\n",
    "// })();"
   ]
  },
  {
   "cell_type": "code",
   "execution_count": 26,
   "metadata": {},
   "outputs": [
    {
     "data": {
      "text/plain": [
       "'use strict'"
      ]
     },
     "execution_count": 26,
     "metadata": {},
     "output_type": "execute_result"
    }
   ],
   "source": [
    "var uniqlabels = R.uniq(labels)\n",
    "var targets = labels.map(l=>Array.from(T.oneHot(l, 20).dataSync()))"
   ]
  },
  {
   "cell_type": "code",
   "execution_count": 39,
   "metadata": {},
   "outputs": [
    {
     "data": {
      "text/plain": [
       "'use strict'"
      ]
     },
     "execution_count": 39,
     "metadata": {},
     "output_type": "execute_result"
    }
   ],
   "source": [
    "var preprocessingData = inputData.map((o,i)=>[o, targets[i]])"
   ]
  },
  {
   "cell_type": "code",
   "execution_count": 40,
   "metadata": {},
   "outputs": [
    {
     "name": "stdout",
     "output_type": "stream",
     "text": [
      "[ 10314, 1000 ]\n"
     ]
    }
   ],
   "source": [
    "var [trainSet, testSet] = R.splitAt(10314, preprocessingData)\n",
    "console.log([trainSet.length, testSet.length])"
   ]
  },
  {
   "cell_type": "code",
   "execution_count": 41,
   "metadata": {},
   "outputs": [
    {
     "data": {
      "text/plain": [
       "[ [ 0.028369115665555,\n",
       "    0.03054637648165226,\n",
       "    0.06017296761274338,\n",
       "    -0.007304872386157513,\n",
       "    -0.0015674697933718562,\n",
       "    0.09297604858875275,\n",
       "    0.05786536633968353,\n",
       "    -0.038533542305231094,\n",
       "    0.07912255078554153,\n",
       "    0.056372079998254776,\n",
       "    0.07710565626621246,\n",
       "    0.014738659374415874,\n",
       "    0.019380733370780945,\n",
       "    0.09697484970092773,\n",
       "    -0.059149663895368576,\n",
       "    -0.025681007653474808,\n",
       "    -0.05750536546111107,\n",
       "    -0.005214315373450518,\n",
       "    -0.010037926025688648,\n",
       "    0.057757627218961716,\n",
       "    -0.057805612683296204,\n",
       "    -0.06593387573957443,\n",
       "    -0.081797294318676,\n",
       "    -0.005358944647014141,\n",
       "    0.03587067499756813,\n",
       "    0.0014632497914135456,\n",
       "    0.02528754435479641,\n",
       "    -0.00278215273283422,\n",
       "    -0.020434193313121796,\n",
       "    -0.049661602824926376,\n",
       "    0.006134781055152416,\n",
       "    0.043485455214977264,\n",
       "    0.03838784620165825,\n",
       "    -0.02073526382446289,\n",
       "    0.020247383043169975,\n",
       "    0.07384887337684631,\n",
       "    -0.037138067185878754,\n",
       "    0.03690420463681221,\n",
       "    -0.050723373889923096,\n",
       "    -0.050797734409570694,\n",
       "    0.0015602940693497658,\n",
       "    0.046804625540971756,\n",
       "    0.05454980209469795,\n",
       "    -0.03543425351381302,\n",
       "    0.028633655980229378,\n",
       "    -0.05346887558698654,\n",
       "    -0.04965372383594513,\n",
       "    0.06031772494316101,\n",
       "    0.0737055316567421,\n",
       "    0.016644848510622978,\n",
       "    0.08203831315040588,\n",
       "    -0.01976901851594448,\n",
       "    0.03712771087884903,\n",
       "    0.061946384608745575,\n",
       "    -0.04523196071386337,\n",
       "    -0.028321515768766403,\n",
       "    -0.04916958138346672,\n",
       "    -0.018836548551917076,\n",
       "    0.034534696489572525,\n",
       "    0.026445839554071426,\n",
       "    -0.029168272390961647,\n",
       "    0.012795638293027878,\n",
       "    0.0008518447866663337,\n",
       "    -0.0924178808927536,\n",
       "    0.02323104254901409,\n",
       "    -0.025104131549596786,\n",
       "    0.016473859548568726,\n",
       "    0.08533633500337601,\n",
       "    0.030979739502072334,\n",
       "    -0.0744154080748558,\n",
       "    0.03988564759492874,\n",
       "    -0.0031794169917702675,\n",
       "    0.09296718239784241,\n",
       "    0.05305866152048111,\n",
       "    -0.06840189546346664,\n",
       "    -0.023293619975447655,\n",
       "    -0.030606422573328018,\n",
       "    -0.025154495611786842,\n",
       "    -0.047753073275089264,\n",
       "    0.04643906652927399,\n",
       "    0.03122655674815178,\n",
       "    0.017441455274820328,\n",
       "    -0.056281860917806625,\n",
       "    0.01134059764444828,\n",
       "    0.05547363683581352,\n",
       "    0.060862138867378235,\n",
       "    -0.022165149450302124,\n",
       "    0.06792747974395752,\n",
       "    0.006446392275393009,\n",
       "    -0.030939623713493347,\n",
       "    -0.017857827246189117,\n",
       "    0.009282884187996387,\n",
       "    0.04081505537033081,\n",
       "    0.028124496340751648,\n",
       "    -0.018390782177448273,\n",
       "    -0.03926783427596092,\n",
       "    -0.044329237192869186,\n",
       "    -0.0020572335924953222,\n",
       "    -0.055307794362306595,\n",
       "    -0.061544932425022125,\n",
       "    ... 412 more items ],\n",
       "  [ 1, 0, 0, 0, 0, 0, 0, 0, 0, 0, 0, 0, 0, 0, 0, 0, 0, 0, 0, 0 ] ]"
      ]
     },
     "execution_count": 41,
     "metadata": {},
     "output_type": "execute_result"
    }
   ],
   "source": [
    "trainSet[0]"
   ]
  },
  {
   "cell_type": "code",
   "execution_count": 48,
   "metadata": {},
   "outputs": [
    {
     "data": {
      "text/plain": [
       "'use strict'"
      ]
     },
     "execution_count": 48,
     "metadata": {},
     "output_type": "execute_result"
    }
   ],
   "source": [
    "// import CausalNet from 'causal-net';"
   ]
  },
  {
   "cell_type": "code",
   "execution_count": 42,
   "metadata": {},
   "outputs": [
    {
     "ename": "ReferenceError",
     "evalue": "SimpleNet is not defined",
     "output_type": "error",
     "traceback": [
      "evalmachine.<anonymous>:34",
      "var causalNet = new SimpleNet(_NetConfig, parameters);",
      "                ^",
      "",
      "ReferenceError: SimpleNet is not defined",
      "    at evalmachine.<anonymous>:34:17",
      "    at Script.runInThisContext (vm.js:122:20)",
      "    at Object.runInThisContext (vm.js:319:38)",
      "    at run ([eval]:1054:15)",
      "    at onRunRequest ([eval]:888:18)",
      "    at onMessage ([eval]:848:13)",
      "    at process.emit (events.js:182:13)",
      "    at emit (internal/child_process.js:828:12)",
      "    at process.internalTickCallback (internal/process/next_tick.js:72:19)"
     ]
    }
   ],
   "source": [
    "var _NetConfig = {\n",
    "    HyperParameters: {SampleSize:400},\n",
    "    Classes: 2,\n",
    "    Pipeline:[\n",
    "        {   Name:'dense', Type: 'Tensor', \n",
    "            Parameters: { Weight: [512, 2], Bias: [2]  },\n",
    "            Flow: [ { Op: 'dot', Parameter: 'Weight', Args: [] },\n",
    "                    { Op: 'add', Parameter: 'Bias',  Args: [] } ] \n",
    "        },\n",
    "        {   Name:'PipeOutput', Type: 'Tensor', \n",
    "            Flow: [ { Op: 'reshape', Args: [['$SampleSize', -1]] } ] \n",
    "        } \n",
    "    ] };\n",
    "var parameters = {};\n",
    "var causalNet = new cau(_NetConfig, parameters);"
   ]
  },
  {
   "cell_type": "code",
   "execution_count": null,
   "metadata": {},
   "outputs": [],
   "source": [
    "(async ()=>{\n",
    "    const DoBatchTrainSampleGenerator = (epochIdx)=>([{idx:0, batchSize:400, data: [inputs, targets]}]);\n",
    "    let logTrain = await causalNet.train(DoBatchTrainSampleGenerator, 20);\n",
    "    termLogger.log(logTrain);\n",
    "    const DoBatchTestSampleGenerator = ()=>([{idx:0, batchSize:4, data: [inputs, targets]}]);\n",
    "    let testResult = await causalNet.test(DoBatchTestSampleGenerator);\n",
    "    termLogger.log({testResult});\n",
    "    await causalNet.saveParams('save_model.model');\n",
    "    await causalNet.loadParams('save_model.model');\n",
    "    testResult = await causalNet.test(DoBatchTestSampleGenerator);\n",
    "    termLogger.log({testResult});\n",
    "    testResult = await causalNet.ensembleTest(DoBatchTestSampleGenerator, ['save_model.model']);\n",
    "    termLogger.log({testResult});\n",
    "    testResult = await causalNet.ensembleTest(DoBatchTestSampleGenerator, ['save_model.model']);\n",
    "    termLogger.log({testResult});\n",
    "})().catch(err=>{\n",
    "    console.error({err});\n",
    "});"
   ]
  },
  {
   "cell_type": "code",
   "execution_count": null,
   "metadata": {},
   "outputs": [],
   "source": [
    "(async ()=>{\n",
    "    const DoBatchTrainSampleGenerator = (epochIdx)=>([{idx:0, batchSize:4, data: [inputs, targets]}]);\n",
    "    let logTrain = await causalNet.train(DoBatchTrainSampleGenerator, 20);\n",
    "    termLogger.log(logTrain);\n",
    "    const DoBatchTestSampleGenerator = ()=>([{idx:0, batchSize:4, data: [inputs, targets]}]);\n",
    "    let testResult = await causalNet.test(DoBatchTestSampleGenerator);\n",
    "    termLogger.log({testResult});\n",
    "    await causalNet.saveParams('save_model.model');\n",
    "    await causalNet.loadParams('save_model.model');\n",
    "    testResult = await causalNet.test(DoBatchTestSampleGenerator);\n",
    "    termLogger.log({testResult});\n",
    "    testResult = await causalNet.ensembleTest(DoBatchTestSampleGenerator, ['save_model.model']);\n",
    "    termLogger.log({testResult});\n",
    "    testResult = await causalNet.ensembleTest(DoBatchTestSampleGenerator, ['save_model.model']);\n",
    "    termLogger.log({testResult});\n",
    "})().catch(err=>{\n",
    "    console.error({err});\n",
    "});"
   ]
  }
 ],
 "metadata": {
  "kernelspec": {
   "display_name": "jp-Babel (Node.js)",
   "language": "babel",
   "name": "babel"
  },
  "language_info": {
   "file_extension": ".js",
   "mimetype": "application/javascript",
   "name": "javascript",
   "version": "11.2.0"
  }
 },
 "nbformat": 4,
 "nbformat_minor": 2
}
