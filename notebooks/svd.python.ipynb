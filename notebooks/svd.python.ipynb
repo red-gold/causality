{
 "cells": [
  {
   "cell_type": "code",
   "execution_count": 1,
   "metadata": {},
   "outputs": [],
   "source": [
    "import numpy as np\n",
    "from scipy.sparse.linalg import svds\n",
    "import sklearn.metrics as metrics\n",
    "import json"
   ]
  },
  {
   "cell_type": "code",
   "execution_count": 2,
   "metadata": {},
   "outputs": [],
   "source": []
  },
  {
   "cell_type": "code",
   "execution_count": 39,
   "metadata": {},
   "outputs": [],
   "source": [
    "with open('./cooccurent.matrix.json','r') as f:\n",
    "    cmatrix = json.load(f)"
   ]
  },
  {
   "cell_type": "code",
   "execution_count": 40,
   "metadata": {},
   "outputs": [],
   "source": [
    "with open('./tokenMapper.json','r') as f:\n",
    "    tokenMapper = json.load(f)"
   ]
  },
  {
   "cell_type": "code",
   "execution_count": 41,
   "metadata": {},
   "outputs": [],
   "source": [
    "inverseTokenMapper = dict([[index, token] for token, index in tokenMapper.items()])"
   ]
  },
  {
   "cell_type": "code",
   "execution_count": 43,
   "metadata": {},
   "outputs": [],
   "source": [
    "[m,i,n] = svds(np.asarray(cmatrix).astype(np.float32), 100)"
   ]
  },
  {
   "cell_type": "code",
   "execution_count": 44,
   "metadata": {},
   "outputs": [
    {
     "name": "stdout",
     "output_type": "stream",
     "text": [
      "(u'the', [u'for', u'or', u'there', u'with', u'example', u'if', u'few', u'single', u'called', u'than'])\n",
      "(u'of', [u'number', u'list', u'may', u'would', u'can', u'these', u'because', u'there', u'own', u'they'])\n",
      "(u'and', [u'between', u'it', u'both', u'its', u'by', u'so', u'then', u'not', u'into', u'including'])\n",
      "(u'one', [u'b', u'd', u'on', u'at', u'th', u'st', u'from', u'who', u'century', u'n'])\n",
      "(u'in', [u'found', u'can', u'united', u'order', u'years', u'world', u'fact', u'used', u'english', u'may'])\n",
      "(u'a', [u'from', u'states', u'would', u'united', u'end', u'th', u'first', u'century', u'they', u'during'])\n",
      "(u'to', [u'be', u'according', u'due', u'see', u'led', u'refer', u'b', u'referred', u'university', u'number'])\n",
      "(u'zero', [u'seven', u'six', u'eight', u'b', u'd', u'four', u'with', u'three', u'all', u'or'])\n",
      "(u'nine', [u'km', u'at', u'three', u'years', u'm', u'isbn', u'from', u'bc', u'into', u'out'])\n",
      "(u'two', [u's', u'american', u'in', u'u', u'since', u'that', u'press', u'president', u'mechanical', u'harrison'])\n"
     ]
    }
   ],
   "source": [
    "for w_id in range(10):\n",
    "    score_idxs = np.argsort(metrics.pairwise.cosine_similarity(np.atleast_2d(m[w_id]),m))\n",
    "    print(inverseTokenMapper[w_id], [inverseTokenMapper[w_id] for w_id in score_idxs.tolist()[0]][:10])"
   ]
  },
  {
   "cell_type": "code",
   "execution_count": 72,
   "metadata": {},
   "outputs": [
    {
     "name": "stdout",
     "output_type": "stream",
     "text": [
      "(5, 5)\n"
     ]
    },
    {
     "data": {
      "text/plain": [
       "array([[ 6.3245553e-01, -4.4721365e-01],\n",
       "       [ 3.1622767e-01, -4.4721371e-01],\n",
       "       [ 2.3841858e-07, -4.4721371e-01],\n",
       "       [-3.1622767e-01, -4.4721371e-01],\n",
       "       [-6.3245571e-01, -4.4721365e-01]], dtype=float32)"
      ]
     },
     "execution_count": 72,
     "metadata": {},
     "output_type": "execute_result"
    }
   ],
   "source": [
    "x = np.asarray([[5,4,3,2,1],\n",
    "                [1,2,3,4,5]]).transpose()\n",
    "xx = np.matmul(x,np.transpose(x))\n",
    "print(xx.shape)\n",
    "U, sigma, Vt = svds(xx.astype(np.float32), 2)\n",
    "U"
   ]
  },
  {
   "cell_type": "code",
   "execution_count": 73,
   "metadata": {},
   "outputs": [
    {
     "data": {
      "text/plain": [
       "array([[26, 22, 18, 14, 10],\n",
       "       [22, 20, 18, 16, 14],\n",
       "       [18, 18, 18, 18, 18],\n",
       "       [14, 16, 18, 20, 22],\n",
       "       [10, 14, 18, 22, 26]])"
      ]
     },
     "execution_count": 73,
     "metadata": {},
     "output_type": "execute_result"
    }
   ],
   "source": [
    "xx"
   ]
  },
  {
   "cell_type": "code",
   "execution_count": null,
   "metadata": {},
   "outputs": [],
   "source": []
  }
 ],
 "metadata": {
  "kernelspec": {
   "display_name": "Python 2",
   "language": "python",
   "name": "python2"
  },
  "language_info": {
   "codemirror_mode": {
    "name": "ipython",
    "version": 2
   },
   "file_extension": ".py",
   "mimetype": "text/x-python",
   "name": "python",
   "nbconvert_exporter": "python",
   "pygments_lexer": "ipython2",
   "version": "2.7.15rc1"
  }
 },
 "nbformat": 4,
 "nbformat_minor": 2
}
