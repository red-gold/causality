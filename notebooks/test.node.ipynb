{
 "cells": [
  {
   "cell_type": "code",
   "execution_count": 1,
   "metadata": {},
   "outputs": [
    {
     "name": "stderr",
     "output_type": "stream",
     "text": [
      "tensorflow backend was already registered. Reusing existing backend\n"
     ]
    }
   ],
   "source": [
    "const causalNetCore = require(\"causal-net.core\");"
   ]
  },
  {
   "cell_type": "code",
   "execution_count": 2,
   "metadata": {},
   "outputs": [],
   "source": [
    "const Utils = require(\"causal-net.utils\");"
   ]
  },
  {
   "cell_type": "code",
   "execution_count": 3,
   "metadata": {},
   "outputs": [
    {
     "data": {
      "text/plain": [
       "{ description: 'Node.js 11.2.0 on Linux 64-bit',\n",
       "  layout: null,\n",
       "  manufacturer: null,\n",
       "  name: 'Node.js',\n",
       "  prerelease: null,\n",
       "  product: null,\n",
       "  ua: null,\n",
       "  version: '11.2.0',\n",
       "  os:\n",
       "   { architecture: 64,\n",
       "     family: 'Linux',\n",
       "     version: null,\n",
       "     toString: [Function: toString] },\n",
       "  parse: [Function: parse],\n",
       "  toString: [Function: toStringPlatform] }"
      ]
     },
     "execution_count": 3,
     "metadata": {},
     "output_type": "execute_result"
    }
   ],
   "source": [
    "Utils.Platform.currentPlatform();"
   ]
  },
  {
   "cell_type": "code",
   "execution_count": 9,
   "metadata": {},
   "outputs": [],
   "source": [
    "var R = causalNetCore.causalNetCore.CoreFunction"
   ]
  },
  {
   "cell_type": "code",
   "execution_count": 10,
   "metadata": {},
   "outputs": [],
   "source": [
    "var F = causalNetCore.causalNetCore.CoreTensor"
   ]
  },
  {
   "cell_type": "code",
   "execution_count": 13,
   "metadata": {},
   "outputs": [
    {
     "name": "stdout",
     "output_type": "stream",
     "text": [
      "Tensor\n",
      "    [[1, 2],\n",
      "     [3, 4]]\n"
     ]
    }
   ],
   "source": [
    "F.tensor([1,2,3,4],[2,2]).print()"
   ]
  },
  {
   "cell_type": "code",
   "execution_count": null,
   "metadata": {},
   "outputs": [],
   "source": []
  }
 ],
 "metadata": {
  "kernelspec": {
   "display_name": "Javascript (Node.js)",
   "language": "javascript",
   "name": "javascript"
  },
  "language_info": {
   "file_extension": ".js",
   "mimetype": "application/javascript",
   "name": "javascript",
   "version": "11.2.0"
  }
 },
 "nbformat": 4,
 "nbformat_minor": 2
}
