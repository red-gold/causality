{
 "cells": [
  {
   "cell_type": "code",
   "execution_count": 2,
   "metadata": {},
   "outputs": [],
   "source": [
    "import { causalNetCore } from 'causal-net.core';\n",
    "const T = causalNetCore.CoreTensor;"
   ]
  },
  {
   "cell_type": "code",
   "execution_count": 5,
   "metadata": {},
   "outputs": [
    {
     "ename": "Error",
     "evalue": "Argument 'x' passed to 'conv2d' must be a Tensor or TensorLike, but got 'null'",
     "output_type": "error",
     "traceback": [
      "/home/huynhnguyen/github/causality/node_modules/@tensorflow/tfjs-core/dist/ops/operation.js:55",
      "            throw ex;",
      "            ^",
      "",
      "Error: Argument 'x' passed to 'conv2d' must be a Tensor or TensorLike, but got 'null'",
      "    at Object.convertToTensor (/home/huynhnguyen/github/causality/node_modules/@tensorflow/tfjs-core/dist/tensor_util_env.js:85:15)",
      "    at conv2d_ (/home/huynhnguyen/github/causality/node_modules/@tensorflow/tfjs-core/dist/ops/conv.js:121:32)",
      "    at Object.conv2d (/home/huynhnguyen/github/causality/node_modules/@tensorflow/tfjs-core/dist/ops/operation.js:46:29)",
      "    at evalmachine.<anonymous>:1:3",
      "    at Script.runInThisContext (vm.js:122:20)",
      "    at Object.runInThisContext (vm.js:319:38)",
      "    at run ([eval]:1054:15)",
      "    at onRunRequest ([eval]:888:18)",
      "    at onMessage ([eval]:848:13)",
      "    at process.emit (events.js:182:13)"
     ]
    }
   ],
   "source": [
    "x = \n",
    "T.conv2d()"
   ]
  },
  {
   "cell_type": "code",
   "execution_count": null,
   "metadata": {},
   "outputs": [],
   "source": []
  }
 ],
 "metadata": {
  "kernelspec": {
   "display_name": "jp-Babel (Node.js)",
   "language": "babel",
   "name": "babel"
  },
  "language_info": {
   "file_extension": ".js",
   "mimetype": "application/javascript",
   "name": "javascript",
   "version": "11.2.0"
  }
 },
 "nbformat": 4,
 "nbformat_minor": 2
}
