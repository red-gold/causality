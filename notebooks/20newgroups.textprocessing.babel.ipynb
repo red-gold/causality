{
 "cells": [
  {
   "cell_type": "code",
   "execution_count": 4,
   "metadata": {},
   "outputs": [],
   "source": [
    "import * as Preprocessing from 'causal-net.preprocessing';\n",
    "import * as Log from 'causal-net.log';\n",
    "import * as Utils from 'causal-net.utils';\n",
    "import * as Storage from 'causal-net.storage';\n",
    "import * as fs from 'fs';\n",
    "var { indexDBStorage } = Storage;\n",
    "var { stream } = Utils;\n",
    "var { termLogger } = Log;\n",
    "var { nlpPreprocessing, tokenizer } = Preprocessing;"
   ]
  },
  {
   "cell_type": "code",
   "execution_count": 5,
   "metadata": {},
   "outputs": [
    {
     "data": {
      "text/plain": [
       "Tokenizer { model: null, vocab: [] }"
      ]
     },
     "execution_count": 5,
     "metadata": {},
     "output_type": "execute_result"
    }
   ],
   "source": [
    "async (()=>{\n",
    "    await tokenizer.load('../');\n",
    "})();"
   ]
  },
  {
   "cell_type": "code",
   "execution_count": null,
   "metadata": {},
   "outputs": [],
   "source": []
  }
 ],
 "metadata": {
  "kernelspec": {
   "display_name": "jp-Babel (Node.js)",
   "language": "babel",
   "name": "babel"
  },
  "language_info": {
   "file_extension": ".js",
   "mimetype": "application/javascript",
   "name": "javascript",
   "version": "11.2.0"
  }
 },
 "nbformat": 4,
 "nbformat_minor": 2
}
