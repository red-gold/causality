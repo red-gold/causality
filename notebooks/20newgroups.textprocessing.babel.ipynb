{
 "cells": [
  {
   "cell_type": "code",
   "execution_count": 4,
   "metadata": {},
   "outputs": [],
   "source": [
    "import * as Preprocessing from 'causal-net.preprocessing';\n",
    "import * as Log from 'causal-net.log';\n",
    "import * as Utils from 'causal-net.utils';\n",
    "import * as Storage from 'causal-net.storage';\n",
    "import * as fs from 'fs';\n",
    "var { indexDBStorage } = Storage;\n",
    "var { stream } = Utils;\n",
    "var { termLogger } = Log;\n",
    "var { nlpPreprocessing, tokenizer } = Preprocessing;"
   ]
  },
  {
   "cell_type": "code",
   "execution_count": 3,
   "metadata": {},
   "outputs": [
    {
     "ename": "SyntaxError",
     "evalue": "unknown: Can not use keyword 'await' outside an async function (2:4)\n\n\u001b[0m \u001b[90m 1 | \u001b[39masync (()\u001b[33m=>\u001b[39m{\u001b[0m\n\u001b[0m\u001b[31m\u001b[1m>\u001b[22m\u001b[39m\u001b[90m 2 | \u001b[39m    await tokenizer\u001b[33m.\u001b[39mload(\u001b[32m'../'\u001b[39m)\u001b[33m;\u001b[39m\u001b[0m\n\u001b[0m \u001b[90m   | \u001b[39m    \u001b[31m\u001b[1m^\u001b[22m\u001b[39m\u001b[0m\n\u001b[0m \u001b[90m 3 | \u001b[39m})()\u001b[33m;\u001b[39m\u001b[0m",
     "output_type": "error",
     "traceback": [
      "SyntaxError: unknown: Can not use keyword 'await' outside an async function (2:4)",
      "",
      "\u001b[0m \u001b[90m 1 | \u001b[39masync (()\u001b[33m=>\u001b[39m{\u001b[0m",
      "\u001b[0m\u001b[31m\u001b[1m>\u001b[22m\u001b[39m\u001b[90m 2 | \u001b[39m    await tokenizer\u001b[33m.\u001b[39mload(\u001b[32m'../'\u001b[39m)\u001b[33m;\u001b[39m\u001b[0m",
      "\u001b[0m \u001b[90m   | \u001b[39m    \u001b[31m\u001b[1m^\u001b[22m\u001b[39m\u001b[0m",
      "\u001b[0m \u001b[90m 3 | \u001b[39m})()\u001b[33m;\u001b[39m\u001b[0m",
      "    at Parser.raise (/home/huynhnguyen/github/jp-babel/node_modules/@babel/parser/lib/index.js:3831:17)",
      "    at Parser.checkReservedWord (/home/huynhnguyen/github/jp-babel/node_modules/@babel/parser/lib/index.js:7004:14)",
      "    at Parser.parseIdentifierName (/home/huynhnguyen/github/jp-babel/node_modules/@babel/parser/lib/index.js:6974:12)",
      "    at Parser.parseIdentifier (/home/huynhnguyen/github/jp-babel/node_modules/@babel/parser/lib/index.js:6948:23)",
      "    at Parser.parseExprAtom (/home/huynhnguyen/github/jp-babel/node_modules/@babel/parser/lib/index.js:6148:27)",
      "    at Parser.parseExprSubscripts (/home/huynhnguyen/github/jp-babel/node_modules/@babel/parser/lib/index.js:5862:23)",
      "    at Parser.parseMaybeUnary (/home/huynhnguyen/github/jp-babel/node_modules/@babel/parser/lib/index.js:5842:21)",
      "    at Parser.parseExprOps (/home/huynhnguyen/github/jp-babel/node_modules/@babel/parser/lib/index.js:5729:23)",
      "    at Parser.parseMaybeConditional (/home/huynhnguyen/github/jp-babel/node_modules/@babel/parser/lib/index.js:5702:23)",
      "    at Parser.parseMaybeAssign (/home/huynhnguyen/github/jp-babel/node_modules/@babel/parser/lib/index.js:5647:21)"
     ]
    }
   ],
   "source": [
    "async (()=>{\n",
    "    await tokenizer.load('../server/models/');\n",
    "})();"
   ]
  },
  {
   "cell_type": "code",
   "execution_count": null,
   "metadata": {},
   "outputs": [],
   "source": []
  }
 ],
 "metadata": {
  "kernelspec": {
   "display_name": "jp-Babel (Node.js)",
   "language": "babel",
   "name": "babel"
  },
  "language_info": {
   "file_extension": ".js",
   "mimetype": "application/javascript",
   "name": "javascript",
   "version": "11.2.0"
  }
 },
 "nbformat": 4,
 "nbformat_minor": 2
}
