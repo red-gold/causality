{
 "cells": [
  {
   "cell_type": "code",
   "execution_count": 5,
   "metadata": {},
   "outputs": [],
   "source": [
    "import * as Core from 'causal-net.core';\n",
    "var { causalNetCore } = Core;"
   ]
  },
  {
   "cell_type": "code",
   "execution_count": 13,
   "metadata": {},
   "outputs": [
    {
     "ename": "Error",
     "evalue": "Operands could not be broadcast together with shapes 2 and 0.",
     "output_type": "error",
     "traceback": [
      "/home/huynhnguyen/github/causality/node_modules/@tensorflow/tfjs-core/dist/ops/operation.js:55",
      "            throw ex;",
      "            ^",
      "",
      "Error: Operands could not be broadcast together with shapes 2 and 0.",
      "    at Object.assertAndGetBroadcastShape (/home/huynhnguyen/github/causality/node_modules/@tensorflow/tfjs-core/dist/ops/broadcast_util.js:80:19)",
      "    at equal_ (/home/huynhnguyen/github/causality/node_modules/@tensorflow/tfjs-core/dist/ops/compare.js:124:22)",
      "    at Object.equal (/home/huynhnguyen/github/causality/node_modules/@tensorflow/tfjs-core/dist/ops/operation.js:46:29)",
      "    at Tensor.equal (/home/huynhnguyen/github/causality/node_modules/@tensorflow/tfjs-core/dist/tensor.js:787:26)",
      "    at evalmachine.<anonymous>:4:8",
      "    at evalmachine.<anonymous>:5:3",
      "    at Script.runInThisContext (vm.js:122:20)",
      "    at Object.runInThisContext (vm.js:319:38)",
      "    at run ([eval]:1054:15)",
      "    at onRunRequest ([eval]:888:18)"
     ]
    }
   ],
   "source": [
    "(()=>{\n",
    "    let T = causalNetCore.CoreTensor;\n",
    "    let mask = T.tensor([1.0, 0]);\n",
    "    \n",
    "})();"
   ]
  },
  {
   "cell_type": "code",
   "execution_count": null,
   "metadata": {},
   "outputs": [],
   "source": []
  }
 ],
 "metadata": {
  "kernelspec": {
   "display_name": "jp-Babel (Node.js)",
   "language": "babel",
   "name": "babel"
  },
  "language_info": {
   "file_extension": ".js",
   "mimetype": "application/javascript",
   "name": "javascript",
   "version": "11.2.0"
  }
 },
 "nbformat": 4,
 "nbformat_minor": 2
}
