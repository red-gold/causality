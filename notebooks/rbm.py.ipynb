{
 "cells": [
  {
   "cell_type": "code",
   "execution_count": 2,
   "metadata": {},
   "outputs": [
    {
     "name": "stdout",
     "output_type": "stream",
     "text": [
      "Collecting numpy\n",
      "\u001b[33m  Cache entry deserialization failed, entry ignored\u001b[0m\n",
      "  Downloading https://files.pythonhosted.org/packages/c1/e2/4db8df8f6cddc98e7d7c537245ef2f4e41a1ed17bf0c3177ab3cc6beac7f/numpy-1.16.3-cp36-cp36m-manylinux1_x86_64.whl (17.3MB)\n",
      "\u001b[K    100% |████████████████████████████████| 17.3MB 107kB/s ta 0:00:01\n",
      "\u001b[?25hInstalling collected packages: numpy\n",
      "Successfully installed numpy-1.16.3\n"
     ]
    }
   ],
   "source": [
    "!pip3 install numpy"
   ]
  },
  {
   "cell_type": "code",
   "execution_count": 2,
   "metadata": {},
   "outputs": [],
   "source": [
    "import numpy as np"
   ]
  },
  {
   "cell_type": "code",
   "execution_count": 3,
   "metadata": {},
   "outputs": [
    {
     "data": {
      "text/plain": [
       "array([0, 1, 1])"
      ]
     },
     "execution_count": 3,
     "metadata": {},
     "output_type": "execute_result"
    }
   ],
   "source": [
    "np.insert([1,1], 0, 0, 0)"
   ]
  },
  {
   "cell_type": "code",
   "execution_count": 4,
   "metadata": {},
   "outputs": [],
   "source": [
    "class RBM:\n",
    "    def __init__(self, num_visible, num_hidden):\n",
    "        self.num_hidden = num_hidden\n",
    "        self.num_visible = num_visible\n",
    "        self.debug_print = True\n",
    "        np_rng = np.random.RandomState(1234)\n",
    "\n",
    "        self.weights = np.asarray(np_rng.uniform(\n",
    "                low  = -0.1 * np.sqrt(6. / (num_hidden + num_visible)),\n",
    "                high =  0.1 * np.sqrt(6. / (num_hidden + num_visible)),\n",
    "                size = (num_visible, num_hidden)))\n",
    "\n",
    "        self.weights = np.insert(self.weights, 0, 0, axis = 0)\n",
    "        self.weights = np.insert(self.weights, 0, 0, axis = 1)\n",
    "\n",
    "    def train(self, data, max_epochs = 1000, learning_rate = 0.1):\n",
    "        \"\"\"\n",
    "        Train the machine.\n",
    "        Parameters\n",
    "        ----------\n",
    "        data: A matrix where each row is a training example consisting of the states of visible units.    \n",
    "        \"\"\"\n",
    "        num_examples = data.shape[0]\n",
    "        # Insert bias units of 1 into the first column.\n",
    "        data = np.insert(data, 0, 1, axis = 1)\n",
    "        for epoch in range(max_epochs):      \n",
    "            pos_hidden_activations = np.dot(data, self.weights)      \n",
    "            pos_hidden_probs = self._logistic(pos_hidden_activations)\n",
    "            pos_hidden_probs[:,0] = 1 # Fix the bias unit.\n",
    "            pos_hidden_states = pos_hidden_probs > np.random.rand(num_examples, self.num_hidden + 1)\n",
    "            pos_associations = np.dot(data.T, pos_hidden_probs)\n",
    "            \n",
    "            neg_visible_activations = np.dot(pos_hidden_states, self.weights.T)\n",
    "            neg_visible_probs = self._logistic(neg_visible_activations)\n",
    "            neg_visible_probs[:,0] = 1 # Fix the bias unit.\n",
    "            neg_hidden_activations = np.dot(neg_visible_probs, self.weights)\n",
    "            neg_hidden_probs = self._logistic(neg_hidden_activations)\n",
    "            \n",
    "            neg_associations = np.dot(neg_visible_probs.T, neg_hidden_probs)\n",
    "\n",
    "        self.weights += learning_rate * ((pos_associations - neg_associations) / num_examples)\n",
    "        error = np.sum((data - neg_visible_probs) ** 2)\n",
    "        if self.debug_print:\n",
    "            print(\"Epoch %s: error is %s\" % (epoch, error))\n",
    "    def run_visible(self, data):\n",
    "    \n",
    "        num_examples = data.shape[0]\n",
    "        hidden_states = np.ones((num_examples, self.num_hidden + 1))\n",
    "        # Insert bias units of 1 into the first column of data.\n",
    "        data = np.insert(data, 0, 1, axis = 1)\n",
    "        # Calculate the activations of the hidden units.\n",
    "        hidden_activations = np.dot(data, self.weights)\n",
    "        # Calculate the probabilities of turning the hidden units on.\n",
    "        hidden_probs = self._logistic(hidden_activations)\n",
    "        # Turn the hidden units on with their specified probabilities.\n",
    "        hidden_states[:,:] = hidden_probs > np.random.rand(num_examples, self.num_hidden + 1)\n",
    "        # Always fix the bias unit to 1.\n",
    "        # hidden_states[:,0] = 1\n",
    "        # Ignore the bias units.\n",
    "        hidden_states = hidden_states[:,1:]\n",
    "        return hidden_states\n",
    "    # TODO: Remove the code duplication between this method and `run_visible`?\n",
    "    def run_hidden(self, data):\n",
    "        num_examples = data.shape[0]\n",
    "        visible_states = np.ones((num_examples, self.num_visible + 1))\n",
    "        # Insert bias units of 1 into the first column of data.\n",
    "        data = np.insert(data, 0, 1, axis = 1)\n",
    "        # Calculate the activations of the visible units.\n",
    "        visible_activations = np.dot(data, self.weights.T)\n",
    "        # Calculate the probabilities of turning the visible units on.\n",
    "        visible_probs = self._logistic(visible_activations)\n",
    "        # Turn the visible units on with their specified probabilities.\n",
    "        visible_states[:,:] = visible_probs > np.random.rand(num_examples, self.num_visible + 1)        \n",
    "        visible_states = visible_states[:,1:]\n",
    "        return visible_states\n",
    "    def daydream(self, num_samples):\n",
    "    \n",
    "        samples = np.ones((num_samples, self.num_visible + 1))\n",
    "        # Take the first sample from a uniform distribution.\n",
    "        samples[0,1:] = np.random.rand(self.num_visible)\n",
    "        for i in range(1, num_samples):\n",
    "            visible = samples[i-1,:]\n",
    "            hidden_activations = np.dot(visible, self.weights)      \n",
    "            # Calculate the probabilities of turning the hidden units on.\n",
    "        hidden_probs = self._logistic(hidden_activations)\n",
    "        # Turn the hidden units on with their specified probabilities.\n",
    "        hidden_states = hidden_probs > np.random.rand(self.num_hidden + 1)\n",
    "        # Always fix the bias unit to 1.\n",
    "        hidden_states[0] = 1\n",
    "        # Recalculate the probabilities that the visible units are on.\n",
    "        visible_activations = np.dot(hidden_states, self.weights.T)\n",
    "        visible_probs = self._logistic(visible_activations)\n",
    "        visible_states = visible_probs > np.random.rand(self.num_visible + 1)\n",
    "        samples[i,:] = visible_states\n",
    "        # Ignore the bias units (the first column), since they're always set to 1.\n",
    "        return samples[:,1:]        \n",
    "    def _logistic(self, x):\n",
    "        return 1.0 / (1 + np.exp(-x))\n"
   ]
  },
  {
   "cell_type": "code",
   "execution_count": 5,
   "metadata": {},
   "outputs": [
    {
     "name": "stdout",
     "output_type": "stream",
     "text": [
      "Epoch 4999: error is 8.984244482252368\n",
      "[[ 0.05        0.00058633 -0.00100547]\n",
      " [ 0.02520172 -0.05340237  0.02059665]\n",
      " [ 0.00809188 -0.01951445  0.04015487]\n",
      " [ 0.0749431   0.07404495 -0.0145061 ]\n",
      " [ 0.02491521 -0.03804182  0.0519547 ]\n",
      " [ 0.0074316   0.07083538  0.05554719]\n",
      " [-0.02484717 -0.04949619 -0.02561542]]\n",
      "[[0. 0.]]\n"
     ]
    }
   ],
   "source": [
    "if __name__ == '__main__':\n",
    "    r = RBM(num_visible = 6, num_hidden = 2)\n",
    "    training_data = np.array([ [1,1,1,0,0,0],\n",
    "                               [1,0,1,0,0,0],\n",
    "                               [1,1,1,0,0,0],\n",
    "                               [0,0,1,1,1,0], \n",
    "                               [0,0,1,1,0,0],\n",
    "                               [0,0,1,1,1,0] ])\n",
    "    r.train(training_data, max_epochs = 5000)\n",
    "    print(r.weights)\n",
    "    user = np.array([[0,0,0,1,1,0]])\n",
    "    print(r.run_visible(user))"
   ]
  },
  {
   "cell_type": "code",
   "execution_count": null,
   "metadata": {},
   "outputs": [],
   "source": []
  }
 ],
 "metadata": {
  "kernelspec": {
   "display_name": "Python 3",
   "language": "python",
   "name": "python3"
  },
  "language_info": {
   "codemirror_mode": {
    "name": "ipython",
    "version": 3
   },
   "file_extension": ".py",
   "mimetype": "text/x-python",
   "name": "python",
   "nbconvert_exporter": "python",
   "pygments_lexer": "ipython3",
   "version": "3.6.7"
  }
 },
 "nbformat": 4,
 "nbformat_minor": 2
}
