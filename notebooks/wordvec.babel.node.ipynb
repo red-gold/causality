{
 "cells": [
  {
   "cell_type": "code",
   "execution_count": 1,
   "metadata": {},
   "outputs": [
    {
     "name": "stderr",
     "output_type": "stream",
     "text": [
      "tensorflow backend was already registered. Reusing existing backend\n"
     ]
    },
    {
     "data": {
      "text/plain": [
       "'use strict'"
      ]
     },
     "execution_count": 1,
     "metadata": {},
     "output_type": "execute_result"
    }
   ],
   "source": [
    "import { Tensor, causalNetCore } from \"causal-net.core\";\n",
    "const TensorBase = Tensor; \n",
    "const T = causalNetCore.CoreTensor;"
   ]
  },
  {
   "cell_type": "code",
   "execution_count": 3,
   "metadata": {},
   "outputs": [
    {
     "data": {
      "text/plain": [
       "Tensor {\n",
       "  isDisposedInternal: false,\n",
       "  shape: [ 23 ],\n",
       "  dtype: 'float32',\n",
       "  size: 23,\n",
       "  strides: [],\n",
       "  dataId: {},\n",
       "  id: 0,\n",
       "  rankType: '1' }"
      ]
     },
     "execution_count": 3,
     "metadata": {},
     "output_type": "execute_result"
    }
   ],
   "source": [
    "T.randomNormal([])"
   ]
  },
  {
   "cell_type": "code",
   "execution_count": null,
   "metadata": {},
   "outputs": [],
   "source": [
    "class SimpleMemory extends TensorBase{\n",
    "    constructor(){ \n",
    "        super();\n",
    "    }\n",
    "    updateSlot(slots, slotFreq){\n",
    "    }\n",
    "    similarScore(){\n",
    "        let ts1 = tf.tensor(vec1, shape=[1, vecSize]);\n",
    "        let ts2 = tf.tensor(vec2, shape=[1, vecSize]);\n",
    "        let similarityScore = ts1.dot(ts2.transpose())\n",
    "            .div(tf.pow(tf.mul(\n",
    "                    ts1.dot(ts1.transpose()), ts2.dot(ts2.transpose())), 0.5) );\n",
    "        return similarityScore;\n",
    "    }\n",
    "    norm(){\n",
    "\n",
    "    }\n",
    "    normalize(vecs){\n",
    "        let ts = tf.tensor(vecs);\n",
    "        ts$mean = ts.mean(axis=1, keepDims=true);\n",
    "        console.log( ts$mean.shape );\n",
    "        ts$std = tf.pow(tf.mean( tf.pow(tf.abs( ts.sub(ts$mean)) ,2 ), axis=1, keepDims=true), 0.5);\n",
    "        return ts.sub(ts$mean).div(ts$std);\n",
    "    }\n",
    "    topKSimilar(){\n",
    "\n",
    "    }\n",
    "    mostPopular(){\n",
    "\n",
    "    }\n",
    "    sampling(size){\n",
    "\n",
    "    }\n",
    "}"
   ]
  },
  {
   "cell_type": "code",
   "execution_count": null,
   "metadata": {},
   "outputs": [],
   "source": []
  }
 ],
 "metadata": {
  "kernelspec": {
   "display_name": "jp-Babel (Node.js)",
   "language": "babel",
   "name": "babel"
  },
  "language_info": {
   "file_extension": ".js",
   "mimetype": "application/javascript",
   "name": "javascript",
   "version": "11.2.0"
  }
 },
 "nbformat": 4,
 "nbformat_minor": 2
}
