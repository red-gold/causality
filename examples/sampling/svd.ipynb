{
 "cells": [
  {
   "cell_type": "code",
   "execution_count": 1,
   "metadata": {},
   "outputs": [
    {
     "name": "stdout",
     "output_type": "stream",
     "text": [
      "false\n"
     ]
    }
   ],
   "source": [
    "import { SamplingMixins, causalNetSampling } from 'causal-net.sampling';\n",
    "import { Platform } from 'causal-net.utils';\n",
    "import * as Core from 'causal-net.core';\n",
    "var { Tensor, Functor, causalNetCore } = Core;\n",
    "console.log(causalNetSampling instanceof Functor);\n",
    "var T = causalNetCore.CoreTensor;"
   ]
  },
  {
   "cell_type": "markdown",
   "metadata": {},
   "source": [
    "http://mathfaculty.fullerton.edu/mathews/n2003/QRMethodMod.html"
   ]
  },
  {
   "cell_type": "code",
   "execution_count": 2,
   "metadata": {},
   "outputs": [],
   "source": [
    "var m = T.tensor([ [ 1, 7,10, 5],\n",
    "                   [ 7, 2, 3,50],\n",
    "                   [10, 3, 3, 5], \n",
    "                   [ 5,50, 5, 5] ] );\n",
    "function Eignh(m){\n",
    "    const [s,_] = m.shape;\n",
    "    diag = T.eye(s);\n",
    "    var [q, r] = T.linalg.qr(m);\n",
    "    var  cQ = T.eye(s);\n",
    "    let err = q.pow(2).sum().sub(q.mul(diag).pow(2).sum());\n",
    "    while( err.dataSync()[0] > 1e-4 ){\n",
    "        [q, r] = T.linalg.qr(m);\n",
    "        err = q.pow(2).sum().sub(q.mul(diag).pow(2).sum());\n",
    "        m = r.dot(q);\n",
    "        cQ = cQ.dot(q);\n",
    "    }\n",
    "    return [m.mul(diag).sum(1), cQ];\n",
    "}"
   ]
  },
  {
   "cell_type": "code",
   "execution_count": 3,
   "metadata": {},
   "outputs": [],
   "source": [
    "//calculate the determinant of a matrix m\n",
    "function det(m) {\n",
    "    return T.tidy(() => {\n",
    "        let [D, _] = m.shape;\n",
    "        \n",
    "        if (D === 2) {\n",
    "            const t = m.as1D()\n",
    "            const a = t.slice([0], [1]).dataSync()[0];\n",
    "            const b = t.slice([1], [1]).dataSync()[0];\n",
    "            const c = t.slice([2], [1]).dataSync()[0];\n",
    "            const d = t.slice([3], [1]).dataSync()[0];\n",
    "            result = a * d - b * c;\n",
    "            return result;\n",
    "\n",
    "        } else {\n",
    "            let s = 0, sub_m, sub_m_rc, d, a ;            \n",
    "            const cols = [...Array(D).keys()];\n",
    "            for(let c=0; c<D; c++){\n",
    "                sub_m = m.gather(T.tensor1d(cols.filter(e => e !== c), 'int32'),1)\n",
    "                sub_m_rc = sub_m.gather(T.tensor1d(cols.filter(e => e !== 0), 'int32'))    \n",
    "                d = det(sub_m_rc);\n",
    "                a = m.gather(0).gather(c).dataSync()[0];\n",
    "                s += a*Math.pow(-1, c)* d;\n",
    "            }\n",
    "            \n",
    "            return s;\n",
    "        }\n",
    "    })\n",
    "}"
   ]
  },
  {
   "cell_type": "code",
   "execution_count": 4,
   "metadata": {},
   "outputs": [
    {
     "name": "stdout",
     "output_type": "stream",
     "text": [
      "matrix a\n",
      "Tensor\n",
      "    [[1 , 7 , 10, 5 ],\n",
      "     [7 , 2 , 3 , 50],\n",
      "     [10, 3 , 3 , 5 ],\n",
      "     [5 , 50, 5 , 5 ]]\n",
      "determinant\n",
      "{ da: 206050 }\n"
     ]
    }
   ],
   "source": [
    "var a = T.tensor2d([ [ 1, 7,10, 5],\n",
    "                     [ 7, 2, 3,50],\n",
    "                     [10, 3, 3, 5], \n",
    "                     [ 5,50, 5, 5] ])\n",
    "console.log(\"matrix a\")\n",
    "a.print()\n",
    "console.log(\"determinant\")\n",
    "var da = det(a)\n",
    "console.log({da})"
   ]
  },
  {
   "cell_type": "code",
   "execution_count": 5,
   "metadata": {},
   "outputs": [
    {
     "data": {
      "text/plain": [
       "Tensor {\n",
       "  kept: false,\n",
       "  isDisposedInternal: false,\n",
       "  shape: [ 4, 4 ],\n",
       "  dtype: 'float32',\n",
       "  size: 16,\n",
       "  strides: [ 4 ],\n",
       "  dataId: {},\n",
       "  id: 1,\n",
       "  rankType: '2' }"
      ]
     },
     "execution_count": 5,
     "metadata": {},
     "output_type": "execute_result"
    }
   ],
   "source": [
    "a"
   ]
  },
  {
   "cell_type": "code",
   "execution_count": 6,
   "metadata": {},
   "outputs": [],
   "source": [
    "// the inverse of the matrix : matrix adjoint method\n",
    "function invertMatrix(m) {\n",
    "    return T.tidy(() => {\n",
    "        const d = det(m)\n",
    "        if (d === 0) {\n",
    "            return\n",
    "        }\n",
    "        const [D, _] = m.shape\n",
    "        const rows = [...Array(D).keys()]\n",
    "        let dets = []\n",
    "        if(D === 2){\n",
    "            dets.push\n",
    "        }\n",
    "        for (let i = 0; i < D; i++) {\n",
    "            for (let j = 0; j < D; j++) {\n",
    "                const sub_m = m.gather(T.tensor1d(rows.filter(e => e !== i), 'int32'))\n",
    "                let sli\n",
    "                if (j === 0) {\n",
    "                    sli = sub_m.slice([0, 1], [D - 1, D - 1])\n",
    "                } else if (j === D - 1) {\n",
    "                    sli = sub_m.slice([0, 0], [D - 1, D - 1])\n",
    "                } else {\n",
    "                    const [a, b, c] = T.split(sub_m, [j, 1, D - (D + 1)], 1)\n",
    "                    sli = T.concat([a, c], 1)\n",
    "                }\n",
    "                dets.push(Math.pow(-1, (i + j)) * det(sli))\n",
    "            }\n",
    "        }\n",
    "        com = T.tensor2d(dets, [D, D])\n",
    "        tr_com = com.transpose()\n",
    "        inv_m = tr_com.div(T.scalar(d))\n",
    "        \n",
    "        return inv_m\n",
    "    })\n",
    "}"
   ]
  },
  {
   "cell_type": "code",
   "execution_count": 7,
   "metadata": {},
   "outputs": [
    {
     "ename": "Error",
     "evalue": "The sum of sizes must match the size of the axis dimension.",
     "output_type": "error",
     "traceback": [
      "/Users/huynh/github/causality/node_modules/@tensorflow/tfjs-core/dist/engine.js:344",
      "            throw ex;",
      "            ^",
      "",
      "Error: The sum of sizes must match the size of the axis dimension.",
      "    at Object.assert (/Users/huynh/github/causality/node_modules/@tensorflow/tfjs-core/dist/util.js:105:15)",
      "    at split_ (/Users/huynh/github/causality/node_modules/@tensorflow/tfjs-core/dist/ops/concat_split.js:222:16)",
      "    at Object.split (/Users/huynh/github/causality/node_modules/@tensorflow/tfjs-core/dist/ops/operation.js:46:29)",
      "    at T.tidy (evalmachine.<anonymous>:28:31)",
      "    at /Users/huynh/github/causality/node_modules/@tensorflow/tfjs-core/dist/engine.js:328:22",
      "    at Engine.scopedRun (/Users/huynh/github/causality/node_modules/@tensorflow/tfjs-core/dist/engine.js:338:23)",
      "    at Engine.tidy (/Users/huynh/github/causality/node_modules/@tensorflow/tfjs-core/dist/engine.js:327:21)",
      "    at Object.tidy (/Users/huynh/github/causality/node_modules/@tensorflow/tfjs-core/dist/globals.js:163:28)",
      "    at invertMatrix (evalmachine.<anonymous>:3:12)",
      "    at evalmachine.<anonymous>:2:9"
     ]
    }
   ],
   "source": [
    "var a = T.tensor([[3.4638197, 0        , 0        ],\n",
    "                  [0        , 3.1625874, 0        ],\n",
    "                  [0        , 0        , 3.1625874]])\n",
    "var i = invertMatrix(a)\n",
    "console.log(\"inverse i\")\n",
    "i.print()\n",
    "var prod = i.dot(a)\n",
    "console.log(\"a * i\")\n",
    "prod.print()"
   ]
  },
  {
   "cell_type": "code",
   "execution_count": 8,
   "metadata": {},
   "outputs": [
    {
     "name": "stdout",
     "output_type": "stream",
     "text": [
      "Tensor\n",
      "    [[0, 0],\n",
      "     [0, 0]]\n"
     ]
    }
   ],
   "source": [
    "var w = T.tensor([[3.4638197, 0        ],\n",
    "                  [0        , 3.1625874]])\n",
    "invertMatrix(w).print()"
   ]
  },
  {
   "cell_type": "code",
   "execution_count": 9,
   "metadata": {},
   "outputs": [
    {
     "name": "stdout",
     "output_type": "stream",
     "text": [
      "Tensor\n",
      "    [[3.4638197, 0        ],\n",
      "     [0        , 3.1625874]]\n",
      "Tensor\n",
      "    [[0, 0],\n",
      "     [0, 0]]\n",
      "Tensor\n",
      "    [11.9980478, 10.0019588]\n",
      "Tensor\n",
      "    [[-0.7288829, 0.6846386 ],\n",
      "     [-0.6846387, -0.7288826]]\n",
      "Tensor\n",
      "    [[0, 0],\n",
      "     [0, 0],\n",
      "     [0, 0]]\n"
     ]
    }
   ],
   "source": [
    "var m = T.tensor([[3,1,1],\n",
    "                  [-1,3,1]])\n",
    "var temp = m.dot(m.transpose())\n",
    "var [S, U] = Eignh(temp)\n",
    "S_ = S.pow(0.5).mul(T.eye(2))\n",
    "S_.print()\n",
    "iS = invertMatrix(S_)\n",
    "iS.print()\n",
    "V = m.transpose().dot(U).dot(iS)\n",
    "S.print()\n",
    "U.print()\n",
    "V.print()"
   ]
  },
  {
   "cell_type": "code",
   "execution_count": null,
   "metadata": {},
   "outputs": [],
   "source": []
  }
 ],
 "metadata": {
  "kernelspec": {
   "display_name": "jp-Babel (Node.js)",
   "language": "babel",
   "name": "babel"
  },
  "language_info": {
   "file_extension": ".js",
   "mimetype": "application/javascript",
   "name": "javascript",
   "version": "10.6.0"
  }
 },
 "nbformat": 4,
 "nbformat_minor": 2
}
