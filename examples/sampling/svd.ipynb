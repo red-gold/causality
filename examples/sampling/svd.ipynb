{
 "cells": [
  {
   "cell_type": "code",
   "execution_count": 4,
   "metadata": {},
   "outputs": [
    {
     "name": "stdout",
     "output_type": "stream",
     "text": [
      "false\n"
     ]
    }
   ],
   "source": [
    "import { SamplingMixins, causalNetSampling } from 'causal-net.sampling';\n",
    "import { Platform } from 'causal-net.utils';\n",
    "import * as Core from 'causal-net.core';\n",
    "var { Tensor, Functor, causalNetCore } = Core;\n",
    "console.log(causalNetSampling instanceof Functor);\n",
    "var T = causalNetCore.CoreTensor;"
   ]
  },
  {
   "cell_type": "markdown",
   "metadata": {},
   "source": [
    "http://mathfaculty.fullerton.edu/mathews/n2003/QRMethodMod.html"
   ]
  },
  {
   "cell_type": "code",
   "execution_count": 5,
   "metadata": {},
   "outputs": [],
   "source": [
    "var m = T.tensor([ [1, 3, 4], \n",
    "                   [3, 1, 2], \n",
    "                   [4, 2, 1]] );\n",
    "function Eignh(m){\n",
    "    const [s,_] = m.shape;\n",
    "    diag = T.eye(s);\n",
    "    var [q, r] = T.linalg.qr(m);\n",
    "    var  cQ = q.dot(diag);\n",
    "    let err = q.pow(2).sum().sub(q.mul(diag).pow(2).sum());\n",
    "    while( err.dataSync()[0] > 1e-4 ){\n",
    "        [q, r] = T.linalg.qr(m);\n",
    "        err = q.pow(2).sum().sub(q.mul(diag).pow(2).sum());\n",
    "        m = r.dot(q);\n",
    "        cQ = cQ.dot(q);\n",
    "    }\n",
    "    return [m.mul(diag).sum(1), cQ]\n",
    "}"
   ]
  },
  {
   "cell_type": "code",
   "execution_count": 82,
   "metadata": {},
   "outputs": [
    {
     "name": "stdout",
     "output_type": "stream",
     "text": [
      "Tensor\n",
      "    [[1, 0, 0],\n",
      "     [0, 1, 0],\n",
      "     [0, 0, 1]]\n",
      "Tensor\n",
      "    [7.0746336, -3.1878407, -0.8867912]\n",
      "Tensor\n",
      "    [[0.4545127 , 0.4893836, -0.7442594],\n",
      "     [-0.0466633, 0.847486 , 0.5287629 ],\n",
      "     [-0.8895173, 0.2055998, -0.4080295]]\n"
     ]
    }
   ],
   "source": [
    "var [s, v] = Eignh(m)\n",
    "s.print()\n",
    "v.print()"
   ]
  },
  {
   "cell_type": "code",
   "execution_count": 73,
   "metadata": {},
   "outputs": [
    {
     "data": {
      "text/plain": [
       "0.9934492984509811"
      ]
     },
     "execution_count": 73,
     "metadata": {},
     "output_type": "execute_result"
    }
   ],
   "source": [
    "det(v)"
   ]
  },
  {
   "cell_type": "code",
   "execution_count": 60,
   "metadata": {},
   "outputs": [
    {
     "data": {
      "text/plain": [
       "Tensor {\n",
       "  kept: false,\n",
       "  isDisposedInternal: false,\n",
       "  shape: [ 3 ],\n",
       "  dtype: 'float32',\n",
       "  size: 3,\n",
       "  strides: [],\n",
       "  dataId: {},\n",
       "  id: 86220,\n",
       "  rankType: '1',\n",
       "  scopeId: 54094 }"
      ]
     },
     "execution_count": 60,
     "metadata": {},
     "output_type": "execute_result"
    }
   ],
   "source": [
    "q.gather(0)"
   ]
  },
  {
   "cell_type": "code",
   "execution_count": null,
   "metadata": {},
   "outputs": [
    {
     "name": "stdout",
     "output_type": "stream",
     "text": [
      "matrix a\n",
      "Tensor\n",
      "    [[0  , 1  , 2  , 3  , 4  , 5  , 6  , 7  , 8  , 9  , 10 , 11 , 12 , 13 , 14 , 15 , 16 , 17 ],\n",
      "     [18 , 19 , 20 , 21 , 22 , 23 , 24 , 25 , 26 , 27 , 28 , 29 , 30 , 31 , 32 , 33 , 34 , 35 ],\n",
      "     [36 , 37 , 38 , 39 , 40 , 41 , 42 , 43 , 44 , 45 , 46 , 47 , 48 , 49 , 50 , 51 , 52 , 53 ],\n",
      "     [54 , 55 , 56 , 57 , 58 , 59 , 60 , 61 , 62 , 63 , 64 , 65 , 66 , 67 , 68 , 69 , 70 , 71 ],\n",
      "     [72 , 73 , 74 , 75 , 76 , 77 , 78 , 79 , 80 , 81 , 82 , 83 , 84 , 85 , 86 , 87 , 88 , 89 ],\n",
      "     [90 , 91 , 92 , 93 , 94 , 95 , 96 , 97 , 98 , 99 , 100, 101, 102, 103, 104, 105, 106, 107],\n",
      "     [108, 109, 110, 111, 112, 113, 114, 115, 116, 117, 118, 119, 120, 121, 122, 123, 124, 125],\n",
      "     [126, 127, 128, 129, 130, 131, 132, 133, 134, 135, 136, 137, 138, 139, 140, 141, 142, 143],\n",
      "     [144, 145, 146, 147, 148, 149, 150, 151, 152, 153, 154, 155, 156, 157, 158, 159, 160, 161],\n",
      "     [162, 163, 164, 165, 166, 167, 168, 169, 170, 171, 172, 173, 174, 175, 176, 177, 178, 179],\n",
      "     [180, 181, 182, 183, 184, 185, 186, 187, 188, 189, 190, 191, 192, 193, 194, 195, 196, 197],\n",
      "     [198, 199, 200, 201, 202, 203, 204, 205, 206, 207, 208, 209, 210, 211, 212, 213, 214, 215],\n",
      "     [216, 217, 218, 219, 220, 221, 222, 223, 224, 225, 226, 227, 228, 229, 230, 231, 232, 233],\n",
      "     [234, 235, 236, 237, 238, 239, 240, 241, 242, 243, 244, 245, 246, 247, 248, 249, 250, 251],\n",
      "     [252, 253, 254, 255, 256, 257, 258, 259, 260, 261, 262, 263, 264, 265, 266, 267, 268, 269],\n",
      "     [270, 271, 272, 273, 274, 275, 276, 277, 278, 279, 280, 281, 282, 283, 284, 285, 286, 287],\n",
      "     [288, 289, 290, 291, 292, 293, 294, 295, 296, 297, 298, 299, 300, 301, 302, 303, 304, 305],\n",
      "     [306, 307, 308, 309, 310, 311, 312, 313, 314, 315, 316, 317, 318, 319, 320, 321, 322, 323]]\n",
      "determinant\n"
     ]
    }
   ],
   "source": [
    "//calculate the determinant of a matrix m\n",
    "\n",
    "function det(m) {\n",
    "    return T.tidy(() => {\n",
    "        let [r, _] = m.shape\n",
    "        \n",
    "        if (r === 2) {\n",
    "            const t = m.as1D()\n",
    "            const a = t.slice([0], [1]).dataSync()[0]\n",
    "            const b = t.slice([1], [1]).dataSync()[0]\n",
    "            const c = t.slice([2], [1]).dataSync()[0]\n",
    "            const d = t.slice([3], [1]).dataSync()[0]\n",
    "            result = a * d - b * c\n",
    "            return result\n",
    "\n",
    "        } else {\n",
    "            let s = 0;\n",
    "            \n",
    "            for (let i = 0; i < r; i++) {\n",
    "                rows = [...Array(r).keys()]\n",
    "                sub_m = m.gather(T.tensor1d(rows.filter(e => e !== i), 'int32'))\n",
    "                sli = sub_m.slice([0, 1], [r - 1, r - 1])\n",
    "                _d = det(sli)\n",
    "                s += Math.pow(-1, i) * _d \n",
    "            }\n",
    "            return s\n",
    "        }\n",
    "    })\n",
    "}\n",
    "\n",
    "// the inverse of the matrix : matrix adjoint method\n",
    "function invertMatrix(m) {\n",
    "    return T.tidy(() => {\n",
    "        const d = det(m)\n",
    "        if (d === 0) {\n",
    "            return\n",
    "        }\n",
    "        let [r, _] = m.shape\n",
    "        let rows = [...Array(r).keys()]\n",
    "        let dets = []\n",
    "        for (let i = 0; i < r; i++) {\n",
    "            for (let j = 0; j < r; j++) {\n",
    "                const sub_m = m.gather(T.tensor1d(rows.filter(e => e !== i), 'int32'))\n",
    "                let sli\n",
    "                if (j === 0) {\n",
    "                    sli = sub_m.slice([0, 1], [r - 1, r - 1])\n",
    "                } else if (j === r - 1) {\n",
    "                    sli = sub_m.slice([0, 0], [r - 1, r - 1])\n",
    "                } else {\n",
    "                    const [a, b, c] = T.split(sub_m, [j, 1, r - (j + 1)], 1)\n",
    "                    sli = T.concat([a, c], 1)\n",
    "                }\n",
    "                dets.push(Math.pow(-1, (i + j)) * det(sli))\n",
    "            }\n",
    "        }\n",
    "        com = T.tensor2d(dets, [r, r])\n",
    "        tr_com = com.transpose()\n",
    "        inv_m = tr_com.div(T.scalar(d))\n",
    "        \n",
    "        return inv_m\n",
    "    })\n",
    "}\n",
    "var sh = 18\n",
    "var a = T.tensor2d([...Array(sh*sh).keys()], [sh, sh])\n",
    "console.log(\"matrix a\")\n",
    "a.print()\n",
    "console.log(\"determinant\")\n",
    "var da = det(a)\n",
    "console.log({da})\n",
    "var i = invertMatrix(a)\n",
    "console.log(\"inverse i\")\n",
    "i.print()\n",
    "var prod = i.dot(a)\n",
    "console.log(\"a * i\")\n",
    "prod.print()"
   ]
  },
  {
   "cell_type": "code",
   "execution_count": 33,
   "metadata": {},
   "outputs": [
    {
     "data": {
      "text/plain": [
       "[ 0, 1, 2, 3 ]"
      ]
     },
     "execution_count": 33,
     "metadata": {},
     "output_type": "execute_result"
    }
   ],
   "source": [
    "[...Array(4).keys()]"
   ]
  },
  {
   "cell_type": "code",
   "execution_count": null,
   "metadata": {},
   "outputs": [],
   "source": []
  }
 ],
 "metadata": {
  "kernelspec": {
   "display_name": "jp-Babel (Node.js)",
   "language": "babel",
   "name": "babel"
  },
  "language_info": {
   "file_extension": ".js",
   "mimetype": "application/javascript",
   "name": "javascript",
   "version": "11.2.0"
  }
 },
 "nbformat": 4,
 "nbformat_minor": 2
}
